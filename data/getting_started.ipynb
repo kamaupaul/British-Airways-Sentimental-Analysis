{
 "cells": [
  {
   "cell_type": "markdown",
   "metadata": {
    "id": "eLaVGrhWDq3T"
   },
   "source": [
    "# Sentimental Analysis for reviews related to British Airways\n",
    "\n",
    "---\n",
    "\n",
    "## Web scraping and analysis\n",
    "\n",
    "This Jupyter notebook includes some code to get you started with web scraping. We will use a package called `BeautifulSoup` to collect the data from the web. Once you've collected your data and saved it into a local `.csv` file you should start with your analysis.\n",
    "\n",
    "### Scraping data from Skytrax\n",
    "\n",
    "If you visit the site you can see that there is a lot of data there. For this task, we are only interested in reviews related to British Airways and the Airline itself.\n",
    "\n",
    "If you navigate to this link: [https://www.airlinequality.com/airline-reviews/british-airways] you will see this data. Now, we can use `Python` and `BeautifulSoup` to collect all the links to the reviews and then to collect the text data on each of the individual review links."
   ]
  },
  {
   "cell_type": "code",
   "execution_count": 1,
   "metadata": {
    "id": "pUvkZmf0Dq3Y"
   },
   "outputs": [],
   "source": [
    "import requests\n",
    "from bs4 import BeautifulSoup\n",
    "import pandas as pd"
   ]
  },
  {
   "cell_type": "code",
   "execution_count": 2,
   "metadata": {
    "id": "ecfDDBBBDq3Z",
    "outputId": "74be6e79-f384-4078-cce4-0f6087e4ff2d"
   },
   "outputs": [
    {
     "name": "stdout",
     "output_type": "stream",
     "text": [
      "Scraping page 1\n",
      "   ---> 100 total reviews\n",
      "Scraping page 2\n",
      "   ---> 200 total reviews\n",
      "Scraping page 3\n",
      "   ---> 300 total reviews\n",
      "Scraping page 4\n",
      "   ---> 400 total reviews\n",
      "Scraping page 5\n",
      "   ---> 500 total reviews\n",
      "Scraping page 6\n",
      "   ---> 600 total reviews\n",
      "Scraping page 7\n",
      "   ---> 700 total reviews\n",
      "Scraping page 8\n",
      "   ---> 800 total reviews\n",
      "Scraping page 9\n",
      "   ---> 900 total reviews\n",
      "Scraping page 10\n",
      "   ---> 1000 total reviews\n"
     ]
    }
   ],
   "source": [
    "base_url = \"https://www.airlinequality.com/airline-reviews/british-airways\"\n",
    "pages = 10\n",
    "page_size = 100\n",
    "\n",
    "reviews = []\n",
    "\n",
    "# for i in range(1, pages + 1):\n",
    "for i in range(1, pages + 1):\n",
    "\n",
    "    print(f\"Scraping page {i}\")\n",
    "\n",
    "    # Create URL to collect links from paginated data\n",
    "    url = f\"{base_url}/page/{i}/?sortby=post_date%3ADesc&pagesize={page_size}\"\n",
    "\n",
    "    # Collect HTML data from this page\n",
    "    response = requests.get(url)\n",
    "\n",
    "    # Parse content\n",
    "    content = response.content\n",
    "    parsed_content = BeautifulSoup(content, 'html.parser')\n",
    "    for para in parsed_content.find_all(\"div\", {\"class\": \"text_content\"}):\n",
    "        reviews.append(para.get_text())\n",
    "\n",
    "    print(f\"   ---> {len(reviews)} total reviews\")"
   ]
  },
  {
   "cell_type": "code",
   "execution_count": 3,
   "metadata": {
    "id": "tm11eIIJDq3a",
    "outputId": "0a8d9310-6603-4c5d-e6eb-333731b63763"
   },
   "outputs": [
    {
     "data": {
      "text/html": [
       "<div>\n",
       "<style scoped>\n",
       "    .dataframe tbody tr th:only-of-type {\n",
       "        vertical-align: middle;\n",
       "    }\n",
       "\n",
       "    .dataframe tbody tr th {\n",
       "        vertical-align: top;\n",
       "    }\n",
       "\n",
       "    .dataframe thead th {\n",
       "        text-align: right;\n",
       "    }\n",
       "</style>\n",
       "<table border=\"1\" class=\"dataframe\">\n",
       "  <thead>\n",
       "    <tr style=\"text-align: right;\">\n",
       "      <th></th>\n",
       "      <th>reviews</th>\n",
       "    </tr>\n",
       "  </thead>\n",
       "  <tbody>\n",
       "    <tr>\n",
       "      <th>0</th>\n",
       "      <td>✅ Trip Verified |  Having not flown with BA fo...</td>\n",
       "    </tr>\n",
       "    <tr>\n",
       "      <th>1</th>\n",
       "      <td>✅ Trip Verified | Dear Community I feel compel...</td>\n",
       "    </tr>\n",
       "    <tr>\n",
       "      <th>2</th>\n",
       "      <td>✅ Trip Verified |  Quick bag drop at First Win...</td>\n",
       "    </tr>\n",
       "    <tr>\n",
       "      <th>3</th>\n",
       "      <td>✅ Trip Verified |  4 Hours before takeoff we r...</td>\n",
       "    </tr>\n",
       "    <tr>\n",
       "      <th>4</th>\n",
       "      <td>✅ Trip Verified |  I recently had a delay on B...</td>\n",
       "    </tr>\n",
       "  </tbody>\n",
       "</table>\n",
       "</div>"
      ],
      "text/plain": [
       "                                             reviews\n",
       "0  ✅ Trip Verified |  Having not flown with BA fo...\n",
       "1  ✅ Trip Verified | Dear Community I feel compel...\n",
       "2  ✅ Trip Verified |  Quick bag drop at First Win...\n",
       "3  ✅ Trip Verified |  4 Hours before takeoff we r...\n",
       "4  ✅ Trip Verified |  I recently had a delay on B..."
      ]
     },
     "execution_count": 3,
     "metadata": {},
     "output_type": "execute_result"
    }
   ],
   "source": [
    "# creating a dataframe of reviews.\n",
    "df = pd.DataFrame()\n",
    "df[\"reviews\"] = reviews\n",
    "df.head()\n"
   ]
  },
  {
   "cell_type": "code",
   "execution_count": 10,
   "metadata": {
    "colab": {
     "base_uri": "https://localhost:8080/",
     "height": 424
    },
    "id": "-6pLWlm0Dq3b",
    "outputId": "9b0107fb-687a-4bc5-80ee-d5f78e2d5558",
    "scrolled": true
   },
   "outputs": [
    {
     "data": {
      "text/html": [
       "<div>\n",
       "<style scoped>\n",
       "    .dataframe tbody tr th:only-of-type {\n",
       "        vertical-align: middle;\n",
       "    }\n",
       "\n",
       "    .dataframe tbody tr th {\n",
       "        vertical-align: top;\n",
       "    }\n",
       "\n",
       "    .dataframe thead th {\n",
       "        text-align: right;\n",
       "    }\n",
       "</style>\n",
       "<table border=\"1\" class=\"dataframe\">\n",
       "  <thead>\n",
       "    <tr style=\"text-align: right;\">\n",
       "      <th></th>\n",
       "      <th>reviews</th>\n",
       "    </tr>\n",
       "  </thead>\n",
       "  <tbody>\n",
       "    <tr>\n",
       "      <th>0</th>\n",
       "      <td>✅ Trip Verified |  Having not flown with BA fo...</td>\n",
       "    </tr>\n",
       "    <tr>\n",
       "      <th>1</th>\n",
       "      <td>✅ Trip Verified | Dear Community I feel compel...</td>\n",
       "    </tr>\n",
       "    <tr>\n",
       "      <th>2</th>\n",
       "      <td>✅ Trip Verified |  Quick bag drop at First Win...</td>\n",
       "    </tr>\n",
       "    <tr>\n",
       "      <th>3</th>\n",
       "      <td>✅ Trip Verified |  4 Hours before takeoff we r...</td>\n",
       "    </tr>\n",
       "    <tr>\n",
       "      <th>4</th>\n",
       "      <td>✅ Trip Verified |  I recently had a delay on B...</td>\n",
       "    </tr>\n",
       "    <tr>\n",
       "      <th>...</th>\n",
       "      <td>...</td>\n",
       "    </tr>\n",
       "    <tr>\n",
       "      <th>995</th>\n",
       "      <td>✅ Trip Verified | I understand completely why ...</td>\n",
       "    </tr>\n",
       "    <tr>\n",
       "      <th>996</th>\n",
       "      <td>✅ Trip Verified | London to Miami. Worst long ...</td>\n",
       "    </tr>\n",
       "    <tr>\n",
       "      <th>997</th>\n",
       "      <td>✅ Trip Verified | I used avios point to upgrad...</td>\n",
       "    </tr>\n",
       "    <tr>\n",
       "      <th>998</th>\n",
       "      <td>✅ Trip Verified | Boarding was fairly quick, t...</td>\n",
       "    </tr>\n",
       "    <tr>\n",
       "      <th>999</th>\n",
       "      <td>✅ Trip Verified |  Bangalore to London. Ground...</td>\n",
       "    </tr>\n",
       "  </tbody>\n",
       "</table>\n",
       "<p>1000 rows × 1 columns</p>\n",
       "</div>"
      ],
      "text/plain": [
       "                                               reviews\n",
       "0    ✅ Trip Verified |  Having not flown with BA fo...\n",
       "1    ✅ Trip Verified | Dear Community I feel compel...\n",
       "2    ✅ Trip Verified |  Quick bag drop at First Win...\n",
       "3    ✅ Trip Verified |  4 Hours before takeoff we r...\n",
       "4    ✅ Trip Verified |  I recently had a delay on B...\n",
       "..                                                 ...\n",
       "995  ✅ Trip Verified | I understand completely why ...\n",
       "996  ✅ Trip Verified | London to Miami. Worst long ...\n",
       "997  ✅ Trip Verified | I used avios point to upgrad...\n",
       "998  ✅ Trip Verified | Boarding was fairly quick, t...\n",
       "999  ✅ Trip Verified |  Bangalore to London. Ground...\n",
       "\n",
       "[1000 rows x 1 columns]"
      ]
     },
     "execution_count": 10,
     "metadata": {},
     "output_type": "execute_result"
    }
   ],
   "source": [
    "# saving the data obtained into a csv.\n",
    "#df.to_csv(\"data/BA_reviews.csv\")\n",
    "import pandas as pd\n",
    "df = pd.read_csv(\"data/BA_reviews.csv\",index_col=0)\n",
    "df"
   ]
  },
  {
   "cell_type": "code",
   "execution_count": 11,
   "metadata": {
    "colab": {
     "base_uri": "https://localhost:8080/"
    },
    "id": "1YUG-aISDq3b",
    "outputId": "0e39f4e1-6126-497e-e747-c255d4811689"
   },
   "outputs": [
    {
     "name": "stdout",
     "output_type": "stream",
     "text": [
      "<class 'pandas.core.frame.DataFrame'>\n",
      "Int64Index: 1000 entries, 0 to 999\n",
      "Data columns (total 1 columns):\n",
      " #   Column   Non-Null Count  Dtype \n",
      "---  ------   --------------  ----- \n",
      " 0   reviews  1000 non-null   object\n",
      "dtypes: object(1)\n",
      "memory usage: 15.6+ KB\n"
     ]
    }
   ],
   "source": [
    "# Getting the basic information of the reviews dataframe\n",
    "df.info()"
   ]
  },
  {
   "cell_type": "markdown",
   "metadata": {
    "id": "8ylYt5-ZDq3c"
   },
   "source": [
    "Now you have your dataset for this task! The loops above collected 1000 reviews by iterating through the paginated pages on the website. However, if you want to collect more data, try increasing the number of pages!\n",
    "\n",
    " The next thing that we should do is clean this data to remove any unnecessary text from each of the rows. For example, \"✅ Trip Verified\" can be removed from each row if it exists, as it's not relevant to what we want to investigate."
   ]
  },
  {
   "cell_type": "code",
   "execution_count": 12,
   "metadata": {
    "colab": {
     "base_uri": "https://localhost:8080/"
    },
    "id": "tmVb3R0cDq3n",
    "outputId": "76ee2e58-6f35-4e6a-90c1-5a8188bfba2b"
   },
   "outputs": [
    {
     "name": "stdout",
     "output_type": "stream",
     "text": [
      "                                               reviews\n",
      "0      Having not flown with BA for a few years, I ...\n",
      "1     Dear Community I feel compelled to share the ...\n",
      "2      Quick bag drop at First Wing but too many pa...\n",
      "3      4 Hours before takeoff we received a Mail st...\n",
      "4      I recently had a delay on British Airways fr...\n",
      "..                                                 ...\n",
      "995   I understand completely why there is air rage...\n",
      "996   London to Miami. Worst long haul business cla...\n",
      "997   I used avios point to upgrade from economy to...\n",
      "998   Boarding was fairly quick, the well turned ou...\n",
      "999    Bangalore to London. Ground experience not g...\n",
      "\n",
      "[1000 rows x 1 columns]\n"
     ]
    }
   ],
   "source": [
    "# Remove unnecessary text\n",
    "df['reviews'] = df['reviews'].str.replace(r'^(✅ Trip Verified|Not Verified) \\|', '', regex=True)\n",
    "\n",
    "# Display the cleaned DataFrame\n",
    "print(df)"
   ]
  },
  {
   "cell_type": "code",
   "execution_count": 13,
   "metadata": {
    "colab": {
     "base_uri": "https://localhost:8080/",
     "height": 112
    },
    "id": "0cMiTyUwDq3o",
    "outputId": "cd4fc7fa-3b70-4ac3-ebcf-ee4445e83177"
   },
   "outputs": [
    {
     "data": {
      "text/html": [
       "<div>\n",
       "<style scoped>\n",
       "    .dataframe tbody tr th:only-of-type {\n",
       "        vertical-align: middle;\n",
       "    }\n",
       "\n",
       "    .dataframe tbody tr th {\n",
       "        vertical-align: top;\n",
       "    }\n",
       "\n",
       "    .dataframe thead th {\n",
       "        text-align: right;\n",
       "    }\n",
       "</style>\n",
       "<table border=\"1\" class=\"dataframe\">\n",
       "  <thead>\n",
       "    <tr style=\"text-align: right;\">\n",
       "      <th></th>\n",
       "      <th>reviews</th>\n",
       "    </tr>\n",
       "  </thead>\n",
       "  <tbody>\n",
       "    <tr>\n",
       "      <th>0</th>\n",
       "      <td>having not flown with ba for a few years, i ...</td>\n",
       "    </tr>\n",
       "    <tr>\n",
       "      <th>1</th>\n",
       "      <td>dear community i feel compelled to share the ...</td>\n",
       "    </tr>\n",
       "  </tbody>\n",
       "</table>\n",
       "</div>"
      ],
      "text/plain": [
       "                                             reviews\n",
       "0    having not flown with ba for a few years, i ...\n",
       "1   dear community i feel compelled to share the ..."
      ]
     },
     "execution_count": 13,
     "metadata": {},
     "output_type": "execute_result"
    }
   ],
   "source": [
    "# normalizing the data to lowecase\n",
    "df.reviews =df['reviews'].str.lower()\n",
    "df.head(2)"
   ]
  },
  {
   "cell_type": "code",
   "execution_count": 14,
   "metadata": {
    "id": "5wcI12NIDq3p"
   },
   "outputs": [],
   "source": [
    "# expanding the contractions (is-nots)\n",
    "#import contractions\n",
    "#from nltk.stem import WordNetLemmatizer\n",
    "\n",
    "#def expand(text):\n",
    "    # Expand contractions\n",
    " #   expanded_text = contractions.fix(text)\n",
    "\n",
    "  #  return expanded_text\n",
    "\n",
    "#df['reviews'] = df['reviews'].apply(expand)"
   ]
  },
  {
   "cell_type": "code",
   "execution_count": 15,
   "metadata": {},
   "outputs": [],
   "source": [
    "# removing the html tags if there is any\n",
    "import re\n",
    "def remove_html(review):\n",
    "    pattern = re.compile('<.*?>')\n",
    "    return pattern.sub(r'', review)\n",
    "\n",
    "df['reviews'] = df['reviews'].apply(remove_html)"
   ]
  },
  {
   "cell_type": "code",
   "execution_count": 16,
   "metadata": {},
   "outputs": [],
   "source": [
    "# removing URL and @ sign if any\n",
    "def preprocess_text_removingq_URLand_atsign(text):\n",
    "    # Remove URLs\n",
    "    clean_text = re.sub(r\"http\\S+|www\\S+|https\\S+\", \"\", text)\n",
    "    text = re.sub(r'@[^\\s]+', 'user', clean_text)\n",
    "    # Other preprocessing steps like removing punctuation, converting to lowercase, etc.\n",
    "    # ...\n",
    "    return text\n",
    "df['reviews'] = df['reviews'].apply(preprocess_text_removingq_URLand_atsign)"
   ]
  },
  {
   "cell_type": "code",
   "execution_count": 17,
   "metadata": {
    "colab": {
     "base_uri": "https://localhost:8080/"
    },
    "id": "z8ihGqV4Dq3p",
    "outputId": "cf02678c-59cf-4782-e3d7-86387c7380ae"
   },
   "outputs": [
    {
     "name": "stdout",
     "output_type": "stream",
     "text": [
      "!\"#$%&'()*+,-./:;<=>?@[\\]^_`{|}~\n"
     ]
    }
   ],
   "source": [
    "#Removing Punctuations\n",
    "import string\n",
    "exclude = string.punctuation\n",
    "print(exclude)\n"
   ]
  },
  {
   "cell_type": "code",
   "execution_count": 18,
   "metadata": {
    "colab": {
     "base_uri": "https://localhost:8080/",
     "height": 206
    },
    "id": "3haoKrmHDq3q",
    "outputId": "14d5c8f6-98ca-430d-d9a4-493aae745fde"
   },
   "outputs": [
    {
     "data": {
      "text/html": [
       "<div>\n",
       "<style scoped>\n",
       "    .dataframe tbody tr th:only-of-type {\n",
       "        vertical-align: middle;\n",
       "    }\n",
       "\n",
       "    .dataframe tbody tr th {\n",
       "        vertical-align: top;\n",
       "    }\n",
       "\n",
       "    .dataframe thead th {\n",
       "        text-align: right;\n",
       "    }\n",
       "</style>\n",
       "<table border=\"1\" class=\"dataframe\">\n",
       "  <thead>\n",
       "    <tr style=\"text-align: right;\">\n",
       "      <th></th>\n",
       "      <th>reviews</th>\n",
       "    </tr>\n",
       "  </thead>\n",
       "  <tbody>\n",
       "    <tr>\n",
       "      <th>0</th>\n",
       "      <td>having not flown with ba for a few years i r...</td>\n",
       "    </tr>\n",
       "    <tr>\n",
       "      <th>1</th>\n",
       "      <td>dear community i feel compelled to share the ...</td>\n",
       "    </tr>\n",
       "    <tr>\n",
       "      <th>2</th>\n",
       "      <td>quick bag drop at first wing but too many pa...</td>\n",
       "    </tr>\n",
       "    <tr>\n",
       "      <th>3</th>\n",
       "      <td>4 hours before takeoff we received a mail st...</td>\n",
       "    </tr>\n",
       "    <tr>\n",
       "      <th>4</th>\n",
       "      <td>i recently had a delay on british airways fr...</td>\n",
       "    </tr>\n",
       "  </tbody>\n",
       "</table>\n",
       "</div>"
      ],
      "text/plain": [
       "                                             reviews\n",
       "0    having not flown with ba for a few years i r...\n",
       "1   dear community i feel compelled to share the ...\n",
       "2    quick bag drop at first wing but too many pa...\n",
       "3    4 hours before takeoff we received a mail st...\n",
       "4    i recently had a delay on british airways fr..."
      ]
     },
     "execution_count": 18,
     "metadata": {},
     "output_type": "execute_result"
    }
   ],
   "source": [
    "# removing punctuations from the reviews\n",
    "def remove_punctuations(review):\n",
    "    return review.translate(str.maketrans('','',exclude))\n",
    "\n",
    "df['reviews']=df['reviews'].apply(remove_punctuations)\n",
    "df.head()"
   ]
  },
  {
   "cell_type": "code",
   "execution_count": 19,
   "metadata": {
    "colab": {
     "base_uri": "https://localhost:8080/",
     "height": 241
    },
    "id": "DsHMJdo_Dq3q",
    "outputId": "9bb4b0b1-5cc0-4a28-9762-b32f66e34a35"
   },
   "outputs": [
    {
     "name": "stderr",
     "output_type": "stream",
     "text": [
      "[nltk_data] Downloading package punkt to /home/paul/nltk_data...\n",
      "[nltk_data]   Package punkt is already up-to-date!\n"
     ]
    },
    {
     "data": {
      "text/html": [
       "<div>\n",
       "<style scoped>\n",
       "    .dataframe tbody tr th:only-of-type {\n",
       "        vertical-align: middle;\n",
       "    }\n",
       "\n",
       "    .dataframe tbody tr th {\n",
       "        vertical-align: top;\n",
       "    }\n",
       "\n",
       "    .dataframe thead th {\n",
       "        text-align: right;\n",
       "    }\n",
       "</style>\n",
       "<table border=\"1\" class=\"dataframe\">\n",
       "  <thead>\n",
       "    <tr style=\"text-align: right;\">\n",
       "      <th></th>\n",
       "      <th>reviews</th>\n",
       "    </tr>\n",
       "  </thead>\n",
       "  <tbody>\n",
       "    <tr>\n",
       "      <th>0</th>\n",
       "      <td>[having, not, flown, with, ba, for, a, few, ye...</td>\n",
       "    </tr>\n",
       "    <tr>\n",
       "      <th>1</th>\n",
       "      <td>[dear, community, i, feel, compelled, to, shar...</td>\n",
       "    </tr>\n",
       "    <tr>\n",
       "      <th>2</th>\n",
       "      <td>[quick, bag, drop, at, first, wing, but, too, ...</td>\n",
       "    </tr>\n",
       "    <tr>\n",
       "      <th>3</th>\n",
       "      <td>[4, hours, before, takeoff, we, received, a, m...</td>\n",
       "    </tr>\n",
       "    <tr>\n",
       "      <th>4</th>\n",
       "      <td>[i, recently, had, a, delay, on, british, airw...</td>\n",
       "    </tr>\n",
       "  </tbody>\n",
       "</table>\n",
       "</div>"
      ],
      "text/plain": [
       "                                             reviews\n",
       "0  [having, not, flown, with, ba, for, a, few, ye...\n",
       "1  [dear, community, i, feel, compelled, to, shar...\n",
       "2  [quick, bag, drop, at, first, wing, but, too, ...\n",
       "3  [4, hours, before, takeoff, we, received, a, m...\n",
       "4  [i, recently, had, a, delay, on, british, airw..."
      ]
     },
     "execution_count": 19,
     "metadata": {},
     "output_type": "execute_result"
    }
   ],
   "source": [
    "# tokenize the tweets\n",
    "import nltk\n",
    "nltk.download('punkt')\n",
    "from nltk.tokenize import word_tokenize, sent_tokenize\n",
    "def tokenize_text(review):\n",
    "    return word_tokenize(review)\n",
    "\n",
    "df['reviews']=df['reviews'].apply(tokenize_text)\n",
    "df.head()"
   ]
  },
  {
   "cell_type": "code",
   "execution_count": 20,
   "metadata": {
    "colab": {
     "base_uri": "https://localhost:8080/",
     "height": 1000
    },
    "id": "1PyZDUynDq3r",
    "outputId": "88b43b6b-d335-44c5-fe2f-8588f48fe0d8"
   },
   "outputs": [
    {
     "data": {
      "text/html": [
       "<div>\n",
       "<style scoped>\n",
       "    .dataframe tbody tr th:only-of-type {\n",
       "        vertical-align: middle;\n",
       "    }\n",
       "\n",
       "    .dataframe tbody tr th {\n",
       "        vertical-align: top;\n",
       "    }\n",
       "\n",
       "    .dataframe thead th {\n",
       "        text-align: right;\n",
       "    }\n",
       "</style>\n",
       "<table border=\"1\" class=\"dataframe\">\n",
       "  <thead>\n",
       "    <tr style=\"text-align: right;\">\n",
       "      <th></th>\n",
       "      <th>reviews</th>\n",
       "    </tr>\n",
       "  </thead>\n",
       "  <tbody>\n",
       "    <tr>\n",
       "      <th>0</th>\n",
       "      <td>flown ba years read reviews preparation needle...</td>\n",
       "    </tr>\n",
       "    <tr>\n",
       "      <th>1</th>\n",
       "      <td>dear community feel compelled share utter frus...</td>\n",
       "    </tr>\n",
       "    <tr>\n",
       "      <th>2</th>\n",
       "      <td>quick bag drop first wing many passengers use ...</td>\n",
       "    </tr>\n",
       "    <tr>\n",
       "      <th>3</th>\n",
       "      <td>4 hours takeoff received mail stating cryptic ...</td>\n",
       "    </tr>\n",
       "    <tr>\n",
       "      <th>4</th>\n",
       "      <td>recently delay british airways bru lhr due sta...</td>\n",
       "    </tr>\n",
       "  </tbody>\n",
       "</table>\n",
       "</div>"
      ],
      "text/plain": [
       "                                             reviews\n",
       "0  flown ba years read reviews preparation needle...\n",
       "1  dear community feel compelled share utter frus...\n",
       "2  quick bag drop first wing many passengers use ...\n",
       "3  4 hours takeoff received mail stating cryptic ...\n",
       "4  recently delay british airways bru lhr due sta..."
      ]
     },
     "execution_count": 20,
     "metadata": {},
     "output_type": "execute_result"
    }
   ],
   "source": [
    "# removing stop words\n",
    "from nltk.corpus import stopwords\n",
    "stop_words = set(stopwords.words('english'))\n",
    "\n",
    "def remove_stopwords(review):\n",
    "    # Use list comprehension for efficient list creation\n",
    "    new_review = [word for word in review if word not in stop_words]\n",
    "    return \" \".join(new_review)\n",
    "\n",
    "# Apply the function to the 'review' column\n",
    "df['reviews']=df['reviews'].apply(remove_stopwords)\n",
    "df.head()"
   ]
  },
  {
   "cell_type": "code",
   "execution_count": 21,
   "metadata": {},
   "outputs": [
    {
     "data": {
      "text/html": [
       "<div>\n",
       "<style scoped>\n",
       "    .dataframe tbody tr th:only-of-type {\n",
       "        vertical-align: middle;\n",
       "    }\n",
       "\n",
       "    .dataframe tbody tr th {\n",
       "        vertical-align: top;\n",
       "    }\n",
       "\n",
       "    .dataframe thead th {\n",
       "        text-align: right;\n",
       "    }\n",
       "</style>\n",
       "<table border=\"1\" class=\"dataframe\">\n",
       "  <thead>\n",
       "    <tr style=\"text-align: right;\">\n",
       "      <th></th>\n",
       "      <th>reviews</th>\n",
       "    </tr>\n",
       "  </thead>\n",
       "  <tbody>\n",
       "    <tr>\n",
       "      <th>0</th>\n",
       "      <td>[flown, ba, years, read, reviews, preparation,...</td>\n",
       "    </tr>\n",
       "    <tr>\n",
       "      <th>1</th>\n",
       "      <td>[dear, community, feel, compelled, share, utte...</td>\n",
       "    </tr>\n",
       "    <tr>\n",
       "      <th>2</th>\n",
       "      <td>[quick, bag, drop, first, wing, many, passenge...</td>\n",
       "    </tr>\n",
       "    <tr>\n",
       "      <th>3</th>\n",
       "      <td>[4, hours, takeoff, received, mail, stating, c...</td>\n",
       "    </tr>\n",
       "    <tr>\n",
       "      <th>4</th>\n",
       "      <td>[recently, delay, british, airways, bru, lhr, ...</td>\n",
       "    </tr>\n",
       "  </tbody>\n",
       "</table>\n",
       "</div>"
      ],
      "text/plain": [
       "                                             reviews\n",
       "0  [flown, ba, years, read, reviews, preparation,...\n",
       "1  [dear, community, feel, compelled, share, utte...\n",
       "2  [quick, bag, drop, first, wing, many, passenge...\n",
       "3  [4, hours, takeoff, received, mail, stating, c...\n",
       "4  [recently, delay, british, airways, bru, lhr, ..."
      ]
     },
     "execution_count": 21,
     "metadata": {},
     "output_type": "execute_result"
    }
   ],
   "source": [
    "# re-tokenizing the data\n",
    "df['reviews']=df['reviews'].apply(tokenize_text)\n",
    "df.head()"
   ]
  },
  {
   "cell_type": "markdown",
   "metadata": {},
   "source": [
    "### Data Analysis"
   ]
  },
  {
   "cell_type": "code",
   "execution_count": 22,
   "metadata": {
    "colab": {
     "base_uri": "https://localhost:8080/",
     "height": 585
    },
    "id": "Kwrbc8muDq3r",
    "outputId": "99389ac9-8512-4ebc-e2de-d7feabeeaee1"
   },
   "outputs": [
    {
     "data": {
      "image/png": "[encoded data removed]",
      "text/plain": [
       "<Figure size 864x432 with 1 Axes>"
      ]
     },
     "metadata": {
      "needs_background": "light"
     },
     "output_type": "display_data"
    }
   ],
   "source": [
    "import nltk\n",
    "import matplotlib.pyplot as plt\n",
    "from nltk.probability import FreqDist\n",
    "\n",
    "#Frequency Distribution after Removing Stopwords\n",
    "reviews = df.reviews\n",
    "# Flatten the list of tokens into a single list\n",
    "all_tokens = [review for sublist in reviews for review in sublist]\n",
    "\n",
    "# Create the frequency distribution\n",
    "freq_dist = FreqDist(all_tokens)\n",
    "\n",
    "# Get the most common words\n",
    "most_common = freq_dist.most_common(20)  \n",
    "\n",
    "# Extract the words and frequencies\n",
    "words, frequencies = zip(*most_common)\n",
    "\n",
    "# Create a bar plot\n",
    "plt.figure(figsize=(12, 6))\n",
    "plt.bar(words, frequencies)\n",
    "plt.xlabel('Words')\n",
    "plt.ylabel('Frequency')\n",
    "plt.title('Frequency Distribution of Words')\n",
    "plt.xticks(rotation=45)\n",
    "plt.show()\n"
   ]
  },
  {
   "cell_type": "markdown",
   "metadata": {},
   "source": [
    "#### ***Observation***\n",
    "Just by looking at this, we can see there is a high occurence of\n",
    "\n",
    "* flight \n",
    "\n",
    "* ba(**British Airways**) \n",
    "\n",
    "* Service , places like Landon, food, seats and good. \n",
    "\n",
    "These words probably occur across our various sentiments and may not necessarily add any meaning, unless a majority of their occurence is associated with a particular emotion"
   ]
  },
  {
   "cell_type": "code",
   "execution_count": 23,
   "metadata": {},
   "outputs": [],
   "source": [
    "# Assuming 'reviews' contains the list of reviews\n",
    "specific_character = '.'\n",
    "\n",
    "# Loop through reviews and print the one containing the specific character\n",
    "for i, review in enumerate(reviews):\n",
    "    if specific_character in review:\n",
    "        print(f\"Review {i + 1}: {review}\")\n"
   ]
  },
  {
   "cell_type": "code",
   "execution_count": 24,
   "metadata": {
    "colab": {
     "base_uri": "https://localhost:8080/",
     "height": 501
    },
    "id": "tOmQM8-EDq3s",
    "outputId": "59854340-c521-4492-d83b-dc2ee0b872d6"
   },
   "outputs": [
    {
     "ename": "ValueError",
     "evalue": "Only supported for TrueType fonts",
     "output_type": "error",
     "traceback": [
      "\u001b[0;31m---------------------------------------------------------------------------\u001b[0m",
      "\u001b[0;31mValueError\u001b[0m                                Traceback (most recent call last)",
      "\u001b[0;32m/tmp/ipykernel_8351/2939360595.py\u001b[0m in \u001b[0;36m<module>\u001b[0;34m\u001b[0m\n\u001b[1;32m     24\u001b[0m \u001b[0;34m\u001b[0m\u001b[0m\n\u001b[1;32m     25\u001b[0m \u001b[0;31m# Call the function with the DataFrame 'df'\u001b[0m\u001b[0;34m\u001b[0m\u001b[0;34m\u001b[0m\u001b[0m\n\u001b[0;32m---> 26\u001b[0;31m \u001b[0mgenerate_word_cloud\u001b[0m\u001b[0;34m(\u001b[0m\u001b[0mdf\u001b[0m\u001b[0;34m)\u001b[0m\u001b[0;34m\u001b[0m\u001b[0;34m\u001b[0m\u001b[0m\n\u001b[0m",
      "\u001b[0;32m/tmp/ipykernel_8351/2939360595.py\u001b[0m in \u001b[0;36mgenerate_word_cloud\u001b[0;34m(df)\u001b[0m\n\u001b[1;32m     15\u001b[0m         \u001b[0mmax_words\u001b[0m\u001b[0;34m=\u001b[0m\u001b[0;36m2000\u001b[0m\u001b[0;34m,\u001b[0m\u001b[0;34m\u001b[0m\u001b[0;34m\u001b[0m\u001b[0m\n\u001b[1;32m     16\u001b[0m         \u001b[0mmin_font_size\u001b[0m\u001b[0;34m=\u001b[0m\u001b[0;36m5\u001b[0m\u001b[0;34m\u001b[0m\u001b[0;34m\u001b[0m\u001b[0m\n\u001b[0;32m---> 17\u001b[0;31m     ).generate(all_text)\n\u001b[0m\u001b[1;32m     18\u001b[0m \u001b[0;34m\u001b[0m\u001b[0m\n\u001b[1;32m     19\u001b[0m     \u001b[0;31m# Display the word cloud\u001b[0m\u001b[0;34m\u001b[0m\u001b[0;34m\u001b[0m\u001b[0m\n",
      "\u001b[0;32m~/.local/lib/python3.10/site-packages/wordcloud/wordcloud.py\u001b[0m in \u001b[0;36mgenerate\u001b[0;34m(self, text)\u001b[0m\n\u001b[1;32m    637\u001b[0m         \u001b[0mself\u001b[0m\u001b[0;34m\u001b[0m\u001b[0;34m\u001b[0m\u001b[0m\n\u001b[1;32m    638\u001b[0m         \"\"\"\n\u001b[0;32m--> 639\u001b[0;31m         \u001b[0;32mreturn\u001b[0m \u001b[0mself\u001b[0m\u001b[0;34m.\u001b[0m\u001b[0mgenerate_from_text\u001b[0m\u001b[0;34m(\u001b[0m\u001b[0mtext\u001b[0m\u001b[0;34m)\u001b[0m\u001b[0;34m\u001b[0m\u001b[0;34m\u001b[0m\u001b[0m\n\u001b[0m\u001b[1;32m    640\u001b[0m \u001b[0;34m\u001b[0m\u001b[0m\n\u001b[1;32m    641\u001b[0m     \u001b[0;32mdef\u001b[0m \u001b[0m_check_generated\u001b[0m\u001b[0;34m(\u001b[0m\u001b[0mself\u001b[0m\u001b[0;34m)\u001b[0m\u001b[0;34m:\u001b[0m\u001b[0;34m\u001b[0m\u001b[0;34m\u001b[0m\u001b[0m\n",
      "\u001b[0;32m~/.local/lib/python3.10/site-packages/wordcloud/wordcloud.py\u001b[0m in \u001b[0;36mgenerate_from_text\u001b[0;34m(self, text)\u001b[0m\n\u001b[1;32m    619\u001b[0m         \"\"\"\n\u001b[1;32m    620\u001b[0m         \u001b[0mwords\u001b[0m \u001b[0;34m=\u001b[0m \u001b[0mself\u001b[0m\u001b[0;34m.\u001b[0m\u001b[0mprocess_text\u001b[0m\u001b[0;34m(\u001b[0m\u001b[0mtext\u001b[0m\u001b[0;34m)\u001b[0m\u001b[0;34m\u001b[0m\u001b[0;34m\u001b[0m\u001b[0m\n\u001b[0;32m--> 621\u001b[0;31m         \u001b[0mself\u001b[0m\u001b[0;34m.\u001b[0m\u001b[0mgenerate_from_frequencies\u001b[0m\u001b[0;34m(\u001b[0m\u001b[0mwords\u001b[0m\u001b[0;34m)\u001b[0m\u001b[0;34m\u001b[0m\u001b[0;34m\u001b[0m\u001b[0m\n\u001b[0m\u001b[1;32m    622\u001b[0m         \u001b[0;32mreturn\u001b[0m \u001b[0mself\u001b[0m\u001b[0;34m\u001b[0m\u001b[0;34m\u001b[0m\u001b[0m\n\u001b[1;32m    623\u001b[0m \u001b[0;34m\u001b[0m\u001b[0m\n",
      "\u001b[0;32m~/.local/lib/python3.10/site-packages/wordcloud/wordcloud.py\u001b[0m in \u001b[0;36mgenerate_from_frequencies\u001b[0;34m(self, frequencies, max_font_size)\u001b[0m\n\u001b[1;32m    451\u001b[0m                 \u001b[0mfont_size\u001b[0m \u001b[0;34m=\u001b[0m \u001b[0mself\u001b[0m\u001b[0;34m.\u001b[0m\u001b[0mheight\u001b[0m\u001b[0;34m\u001b[0m\u001b[0;34m\u001b[0m\u001b[0m\n\u001b[1;32m    452\u001b[0m             \u001b[0;32melse\u001b[0m\u001b[0;34m:\u001b[0m\u001b[0;34m\u001b[0m\u001b[0;34m\u001b[0m\u001b[0m\n\u001b[0;32m--> 453\u001b[0;31m                 self.generate_from_frequencies(dict(frequencies[:2]),\n\u001b[0m\u001b[1;32m    454\u001b[0m                                                max_font_size=self.height)\n\u001b[1;32m    455\u001b[0m                 \u001b[0;31m# find font sizes\u001b[0m\u001b[0;34m\u001b[0m\u001b[0;34m\u001b[0m\u001b[0m\n",
      "\u001b[0;32m~/.local/lib/python3.10/site-packages/wordcloud/wordcloud.py\u001b[0m in \u001b[0;36mgenerate_from_frequencies\u001b[0;34m(self, frequencies, max_font_size)\u001b[0m\n\u001b[1;32m    506\u001b[0m                     font, orientation=orientation)\n\u001b[1;32m    507\u001b[0m                 \u001b[0;31m# get size of resulting text\u001b[0m\u001b[0;34m\u001b[0m\u001b[0;34m\u001b[0m\u001b[0m\n\u001b[0;32m--> 508\u001b[0;31m                 \u001b[0mbox_size\u001b[0m \u001b[0;34m=\u001b[0m \u001b[0mdraw\u001b[0m\u001b[0;34m.\u001b[0m\u001b[0mtextbbox\u001b[0m\u001b[0;34m(\u001b[0m\u001b[0;34m(\u001b[0m\u001b[0;36m0\u001b[0m\u001b[0;34m,\u001b[0m \u001b[0;36m0\u001b[0m\u001b[0;34m)\u001b[0m\u001b[0;34m,\u001b[0m \u001b[0mword\u001b[0m\u001b[0;34m,\u001b[0m \u001b[0mfont\u001b[0m\u001b[0;34m=\u001b[0m\u001b[0mtransposed_font\u001b[0m\u001b[0;34m,\u001b[0m \u001b[0manchor\u001b[0m\u001b[0;34m=\u001b[0m\u001b[0;34m\"lt\"\u001b[0m\u001b[0;34m)\u001b[0m\u001b[0;34m\u001b[0m\u001b[0;34m\u001b[0m\u001b[0m\n\u001b[0m\u001b[1;32m    509\u001b[0m                 \u001b[0;31m# find possible places using integral image:\u001b[0m\u001b[0;34m\u001b[0m\u001b[0;34m\u001b[0m\u001b[0m\n\u001b[1;32m    510\u001b[0m                 result = occupancy.sample_position(box_size[3] + self.margin,\n",
      "\u001b[0;32m/usr/lib/python3/dist-packages/PIL/ImageDraw.py\u001b[0m in \u001b[0;36mtextbbox\u001b[0;34m(self, xy, text, font, anchor, spacing, align, direction, features, language, stroke_width, embedded_color)\u001b[0m\n\u001b[1;32m    669\u001b[0m             \u001b[0mfont\u001b[0m \u001b[0;34m=\u001b[0m \u001b[0mself\u001b[0m\u001b[0;34m.\u001b[0m\u001b[0mgetfont\u001b[0m\u001b[0;34m(\u001b[0m\u001b[0;34m)\u001b[0m\u001b[0;34m\u001b[0m\u001b[0;34m\u001b[0m\u001b[0m\n\u001b[1;32m    670\u001b[0m         \u001b[0;32mif\u001b[0m \u001b[0;32mnot\u001b[0m \u001b[0misinstance\u001b[0m\u001b[0;34m(\u001b[0m\u001b[0mfont\u001b[0m\u001b[0;34m,\u001b[0m \u001b[0mImageFont\u001b[0m\u001b[0;34m.\u001b[0m\u001b[0mFreeTypeFont\u001b[0m\u001b[0;34m)\u001b[0m\u001b[0;34m:\u001b[0m\u001b[0;34m\u001b[0m\u001b[0;34m\u001b[0m\u001b[0m\n\u001b[0;32m--> 671\u001b[0;31m             \u001b[0;32mraise\u001b[0m \u001b[0mValueError\u001b[0m\u001b[0;34m(\u001b[0m\u001b[0;34m\"Only supported for TrueType fonts\"\u001b[0m\u001b[0;34m)\u001b[0m\u001b[0;34m\u001b[0m\u001b[0;34m\u001b[0m\u001b[0m\n\u001b[0m\u001b[1;32m    672\u001b[0m         \u001b[0mmode\u001b[0m \u001b[0;34m=\u001b[0m \u001b[0;34m\"RGBA\"\u001b[0m \u001b[0;32mif\u001b[0m \u001b[0membedded_color\u001b[0m \u001b[0;32melse\u001b[0m \u001b[0mself\u001b[0m\u001b[0;34m.\u001b[0m\u001b[0mfontmode\u001b[0m\u001b[0;34m\u001b[0m\u001b[0;34m\u001b[0m\u001b[0m\n\u001b[1;32m    673\u001b[0m         bbox = font.getbbox(\n",
      "\u001b[0;31mValueError\u001b[0m: Only supported for TrueType fonts"
     ]
    }
   ],
   "source": [
    "# Here we can Plot a word cloud to see some of the most common words\n",
    "\n",
    "from wordcloud import WordCloud\n",
    "import matplotlib.pyplot as plt\n",
    "\n",
    "def generate_word_cloud(df):\n",
    "    # Flatten and concatenate all text data in the DataFrame\n",
    "    all_text = \" \".join(\" \".join(map(str, review)) for review in df['reviews'])\n",
    "\n",
    "    # Create the word cloud\n",
    "    wordcloud = WordCloud(\n",
    "        background_color='white',\n",
    "        width=1600,\n",
    "        height=800,\n",
    "        max_words=2000,\n",
    "        min_font_size=5\n",
    "    ).generate(all_text)\n",
    "\n",
    "    # Display the word cloud\n",
    "    plt.figure(figsize=(12, 8))\n",
    "    plt.imshow(wordcloud, interpolation='bilinear')\n",
    "    plt.axis('off')\n",
    "    plt.show()\n",
    "\n",
    "# Call the function with the DataFrame 'df'\n",
    "generate_word_cloud(df)\n"
   ]
  },
  {
   "cell_type": "code",
   "execution_count": null,
   "metadata": {
    "id": "AsqVbgLrDq3s"
   },
   "outputs": [],
   "source": [
    "import nltk\n",
    "import pandas as pd\n",
    "from nltk.sentiment.vader import SentimentIntensityAnalyzer\n",
    "\n",
    "# Download the VADER lexicon (if not already downloaded)\n",
    "nltk.download('vader_lexicon')\n",
    "\n",
    "# Create a VADER sentiment analyzer\n",
    "analyzer = SentimentIntensityAnalyzer()\n",
    "\n",
    "# Calculate sentiment scores and labels for each review\n",
    "sentiment_scores = []\n",
    "sentiment_labels = []\n",
    "\n",
    "for review_list in df['reviews']:\n",
    "    review = \" \".join(review_list)  # Convert list of strings to a single string\n",
    "    scores = analyzer.polarity_scores(review)\n",
    "    compound_score = scores['compound']\n",
    "    \n",
    "    if compound_score >= 0.05:\n",
    "        sentiment_label = \"positive\"\n",
    "    elif compound_score <= -0.05:\n",
    "        sentiment_label = \"negative\"\n",
    "    else:\n",
    "        sentiment_label = \"neutral\"\n",
    "    \n",
    "    sentiment_scores.append(scores)\n",
    "    sentiment_labels.append(sentiment_label)\n",
    "\n",
    "# Add sentiment scores and labels as new columns in the DataFrame\n",
    "df['sentiment_scores'] = sentiment_scores\n",
    "df['sentiment_labels'] = sentiment_labels\n",
    "\n",
    "# Print the DataFrame with sentiment scores and labels\n",
    "df\n"
   ]
  },
  {
   "cell_type": "code",
   "execution_count": null,
   "metadata": {
    "id": "Ex3ibzFgDq3s"
   },
   "outputs": [],
   "source": [
    "df.sentiment_labels.value_counts(normalize=True)"
   ]
  },
  {
   "cell_type": "code",
   "execution_count": null,
   "metadata": {},
   "outputs": [],
   "source": [
    "import seaborn as sns\n",
    "\n",
    "# Assuming 'sentiment_labels' is a list in each row, extract the first element\n",
    "df['sentiment_labels'] = df['sentiment_labels'].apply(lambda x: x[0] if isinstance(x, list) else x)\n",
    "\n",
    "# Calculate percentages of sentiment_labels\n",
    "sentiment_labels_percentages = df['sentiment_labels'].value_counts(normalize=True) * 100\n",
    "\n",
    "# Get the order of bars sorted by their percentages in descending order\n",
    "order = sentiment_labels_percentages.index\n",
    "\n",
    "# Plotting a countplot for sentiment labels with specified order\n",
    "plt.figure(figsize=(8, 6))\n",
    "ax = sns.countplot(x='sentiment_labels', data=df, order=order, palette='viridis')\n",
    "\n",
    "# Annotate each bar with its percentage value\n",
    "total_count = len(df['sentiment_labels'])\n",
    "for p in ax.patches:\n",
    "    height = p.get_height()\n",
    "    ax.text(p.get_x() + p.get_width() / 2., height + 0.5,\n",
    "            f'{height/total_count*100:.2f}%', ha='center', va='center', fontsize=10, color='black')\n",
    "\n",
    "plt.title('Distribution of sentiment_labels')\n",
    "plt.xlabel('Sentiment Review')\n",
    "plt.ylabel('Percentage')\n",
    "plt.show()\n"
   ]
  },
  {
   "cell_type": "markdown",
   "metadata": {},
   "source": [
    "#### ***Observation***\n",
    "Just by looking at this, we can see that about 55% of the reviews are positive, 42% of the reviews are negative and just 2% of the reviews are neutral\n",
    "\n"
   ]
  },
  {
   "cell_type": "markdown",
   "metadata": {},
   "source": [
    "## Lemmatization\n",
    "We want to produce valid words, better suited for tasks like text analysis, sentiment analysis, and topic modeling.\n",
    "example: Lemmatizing \"running\" would result in \"run,\" and \"better\" would remain \"better.\"\n"
   ]
  },
  {
   "cell_type": "code",
   "execution_count": null,
   "metadata": {},
   "outputs": [],
   "source": [
    "import nltk\n",
    "nltk.download('wordnet')\n"
   ]
  },
  {
   "cell_type": "code",
   "execution_count": null,
   "metadata": {},
   "outputs": [],
   "source": [
    "# Create Lemmatizer\n",
    "from nltk.stem import WordNetLemmatizer\n",
    "word_lem = WordNetLemmatizer()\n",
    "\n",
    "# Function for lemmatization\n",
    "def lem_words(review):\n",
    "    return [word_lem.lemmatize(word) for word in review]\n",
    "\n",
    "# Assuming 'reviews' is a column containing lists of words in each review\n",
    "df['lemmatized_reviews'] = df['reviews'].apply(lem_words)\n",
    "df['lemmatized_reviews'].head()"
   ]
  },
  {
   "cell_type": "code",
   "execution_count": null,
   "metadata": {},
   "outputs": [],
   "source": [
    "df.head()"
   ]
  },
  {
   "cell_type": "code",
   "execution_count": null,
   "metadata": {},
   "outputs": [],
   "source": [
    "# Print some examples where lemmatization differs\n",
    "for i in range(10):\n",
    "    original_review = df['reviews'][i]\n",
    "    lemmatized_review = df['lemmatized_reviews'][i]\n",
    "    \n",
    "    # Check for differences\n",
    "    differences = [pair for pair in zip(original_review, lemmatized_review) if pair[0] != pair[1]]\n",
    "    \n",
    "    if differences:\n",
    "        print(f\"Original: {original_review}\")\n",
    "        print(f\"Lemmatized: {lemmatized_review}\")\n",
    "        print(f\"Differences: {differences}\")\n",
    "        print(\"\\n\")\n"
   ]
  },
  {
   "cell_type": "markdown",
   "metadata": {},
   "source": [
    "As we can see from the above most of the words have been lemmatized as we wanted"
   ]
  },
  {
   "cell_type": "markdown",
   "metadata": {},
   "source": [
    "### Dealing with Emojis\n",
    "**Replace Emojis with Descriptions**:\n",
    "\n",
    "Replace emojis with their corresponding descriptions. This can help maintain some information about the emotional content while removing the graphical representation.\n",
    "\n"
   ]
  },
  {
   "cell_type": "code",
   "execution_count": null,
   "metadata": {},
   "outputs": [],
   "source": [
    "# We create a function that replaces emojis in tweet text with their corresponding meanings.\n",
    "import emoji\n",
    "\n",
    "def replace_emojis_with_descriptions(text):\n",
    "    # Replace emojis with their descriptions (without colons)\n",
    "    return emoji.demojize(text, delimiters=(' ', ' ')).replace(':', ' ')\n",
    "\n",
    "df['lemmatized_reviews'] = df['lemmatized_reviews'].apply(replace_emojis_with_descriptions)\n",
    "df['lemmatized_reviews'].head()\n"
   ]
  },
  {
   "cell_type": "markdown",
   "metadata": {},
   "source": [
    "### vectorization\n",
    "#### CountVectorization\n",
    "\n",
    "Techniques is used for converting text documents into numerical representations. The following code snippet creates a Bag-of-Words representation of the lemmatized reviews using the CountVectorizer from scikit-learn."
   ]
  },
  {
   "cell_type": "code",
   "execution_count": null,
   "metadata": {},
   "outputs": [],
   "source": [
    "from sklearn.feature_extraction.text import CountVectorizer\n",
    "\n",
    "# Join the lemmatized words into strings\n",
    "df['lemmatized_reviews_str'] = df['lemmatized_reviews'].apply(lambda x: ' '.join(x))\n",
    "\n",
    "# Create an instance of the vectorizer\n",
    "bow = CountVectorizer()\n",
    "\n",
    "# Apply the vectorizer to the lemmatized_reviews_str column\n",
    "x = bow.fit_transform(df['lemmatized_reviews_str'])\n"
   ]
  },
  {
   "cell_type": "code",
   "execution_count": null,
   "metadata": {},
   "outputs": [],
   "source": [
    "# Checking feature names\n",
    "feature_names = bow.get_feature_names_out()\n",
    "print(feature_names)\n"
   ]
  },
  {
   "cell_type": "markdown",
   "metadata": {},
   "source": [
    "## Feature engineering\n",
    "\n",
    "### Label Encoding the Target\n",
    "\n",
    "Here we label encode the target feature to transform the values to numerical values."
   ]
  },
  {
   "cell_type": "code",
   "execution_count": null,
   "metadata": {},
   "outputs": [],
   "source": [
    "from sklearn.preprocessing import LabelEncoder\n",
    "\n",
    "# Instantiate LabelEncoder\n",
    "le = LabelEncoder()\n",
    "\n",
    "# Fit and transform\n",
    "df['labels'] = le.fit_transform(df['sentiment_labels'])\n",
    "\n",
    "# View the classes\n",
    "classes = le.classes_\n",
    "print(classes)\n"
   ]
  },
  {
   "cell_type": "code",
   "execution_count": null,
   "metadata": {},
   "outputs": [],
   "source": [
    "# previewing the dataset\n",
    "df.head()"
   ]
  },
  {
   "cell_type": "code",
   "execution_count": null,
   "metadata": {},
   "outputs": [],
   "source": [
    "# displaying the encoding scheme\n",
    "df[['sentiment_labels', 'labels']].head(10)"
   ]
  },
  {
   "cell_type": "markdown",
   "metadata": {},
   "source": [
    "#  Modeling\n",
    "* The problem at hand is a classification problem.\n",
    "* We will explore 2 models: a binary logistic regression model, a multi-class XGBoost model and MultinomialNB.\n",
    "* Model accuracy will be the metric for evaluation.\n",
    "* Justification: Accuracy to get a verdict if a tweet is positive or negative.\n",
    "\n",
    "* Accuracy of 70% will be the threshold to deem the model as successful."
   ]
  },
  {
   "cell_type": "markdown",
   "metadata": {},
   "source": [
    "### 1. LogisticRegression for Binary classification\n",
    "* In this section we create a base model to identify if a tweet is 'Positive' or 'Negative'.\n",
    "* LogisticRegression will be used for the classification.\n",
    "* The normal preprocessing of vectorization and train test split will be implemented."
   ]
  },
  {
   "cell_type": "code",
   "execution_count": null,
   "metadata": {},
   "outputs": [],
   "source": [
    "from sklearn.model_selection import train_test_split\n",
    "from sklearn.linear_model import LogisticRegression\n",
    "from sklearn.metrics import accuracy_score, classification_report\n",
    "from sklearn.feature_extraction.text import CountVectorizer\n",
    "\n",
    "\n",
    "# Create a copy of the original data\n",
    "data_copy = df.copy()\n",
    "\n",
    "# Define the values to drop\n",
    "value_to_drop = [1]\n",
    "\n",
    "# Drop rows with the specified values in the 'labels' column\n",
    "data_copy = data_copy[~data_copy['labels'].isin(value_to_drop)]\n",
    "\n",
    "# Plot class imbalance\n",
    "plt.figure(figsize=(8, 6))\n",
    "sns.countplot(x='labels', data=data_copy)\n",
    "plt.title('Class Imbalance Check')\n",
    "plt.xlabel('Sentiment Label')\n",
    "plt.ylabel('Count')\n",
    "plt.show()\n",
    "\n",
    "# Split the data into features (X) and target variable (y)\n",
    "X = data_copy['lemmatized_reviews_str']\n",
    "y = data_copy['labels']\n",
    "\n",
    "# Split the dataset into training and testing sets\n",
    "X_train, X_test, y_train, y_test = train_test_split(X, y, test_size=0.2, random_state=42)\n",
    "\n",
    "# Vectorize the text data\n",
    "vectorizer = CountVectorizer()\n",
    "X_train_vectorized = vectorizer.fit_transform(X_train)\n",
    "X_test_vectorized = vectorizer.transform(X_test)\n",
    "\n",
    "# Initialize Logistic Regression model\n",
    "model = LogisticRegression()\n",
    "\n",
    "# Train the model\n",
    "model.fit(X_train_vectorized, y_train)\n",
    "\n",
    "# Make predictions on the test set\n",
    "y_pred = model.predict(X_test_vectorized)\n",
    "\n",
    "# Evaluate the model\n",
    "accuracy = accuracy_score(y_test, y_pred)\n",
    "print(f'Accuracy: {accuracy}')\n",
    "\n",
    "# Print classification report\n",
    "print(classification_report(y_test, y_pred))\n"
   ]
  },
  {
   "cell_type": "markdown",
   "metadata": {},
   "source": [
    "### Model Summary\n",
    "\n",
    "1. **Accuracy: 0.79**\n",
    "   - The overall accuracy of the model is 79%. This indicates the proportion of correctly predicted instances among all instances.\n",
    "\n",
    "2. **Precision:**\n",
    "   - For class 0 (negative review):\n",
    "      - Precision is 73%, meaning that of all instances predicted as class 0, 73% are truly class 0.\n",
    "   - For class 2 (positive review):\n",
    "      - Precision is 82%, indicating that of all instances predicted as class 2, 82% are truly class 2.\n",
    "\n",
    "3. **Recall (Sensitivity):**\n",
    "   - For class 0:\n",
    "      - Recall is 71%, indicating that the model correctly identifies 71% of all actual instances of class 0.\n",
    "   - For class 2:\n",
    "      - Recall is 83%, meaning that the model correctly identifies 83% of all actual instances of class 2.\n",
    "\n",
    "4. **F1-Score:**\n",
    "   - The F1-score is the harmonic mean of precision and recall, providing a balance between the two.\n",
    "   - For class 0, the F1-score is 72%.\n",
    "   - For class 2, the F1-score is 82%.\n",
    "\n",
    "5. **Support:**\n",
    "   - The number of actual occurrences of each class in the test set.\n",
    "   - Class 0 has a support of 77 instances, and class 2 has a support of 119 instances.\n",
    "\n",
    "6. **Macro Average and Weighted Average:**\n",
    "   - The macro average calculates the average of precision, recall, and F1-score across classes, giving each class equal weight.\n",
    "   - The weighted average considers the number of instances for each class, providing a weighted average based on support.\n",
    "\n",
    "In summary, the model demonstrates good overall performance with decent precision, recall, and F1-score for both classes. The weighted average takes into account the class imbalance, providing a more representative evaluation metric for an imbalanced dataset."
   ]
  },
  {
   "cell_type": "code",
   "execution_count": null,
   "metadata": {},
   "outputs": [],
   "source": [
    "from sklearn.metrics import ConfusionMatrixDisplay, confusion_matrix\n",
    "# Assuming 'y_test' and 'y_pred' are the true labels and predicted labels, respectively\n",
    "conf_matrix = confusion_matrix(y_test, y_pred)\n",
    "\n",
    "# Display the confusion matrix using ConfusionMatrixDisplay\n",
    "cm_display = ConfusionMatrixDisplay(confusion_matrix=conf_matrix, display_labels=['Class 0', 'Class 2'])\n",
    "cm_display.plot(cmap='Blues', values_format='d')\n",
    "plt.title('Confusion Matrix')\n",
    "plt.show()\n",
    "\n"
   ]
  },
  {
   "cell_type": "markdown",
   "metadata": {},
   "source": [
    "### Testing Logistic Regression Model here\n",
    "\n",
    "* We take a sample sentence, preprocess it then pass it to the model to see the output."
   ]
  },
  {
   "cell_type": "code",
   "execution_count": null,
   "metadata": {},
   "outputs": [],
   "source": [
    "# sample review\n",
    "review = '✅ Trip Verified | Liked this airline! They were organized, cozy, on time & nice. Will definitely fly with them again. Internet & entertainment should be added though.'\n"
   ]
  },
  {
   "cell_type": "code",
   "execution_count": null,
   "metadata": {},
   "outputs": [],
   "source": [
    "# lowercase\n",
    "review = review.lower()\n",
    "review"
   ]
  },
  {
   "cell_type": "code",
   "execution_count": null,
   "metadata": {},
   "outputs": [],
   "source": [
    "# removing punctuations\n",
    "review = remove_punctuations(review)\n",
    "review"
   ]
  },
  {
   "cell_type": "code",
   "execution_count": null,
   "metadata": {},
   "outputs": [],
   "source": [
    "# tokenizing the data\n",
    "review = tokenize_text(review)\n",
    "review"
   ]
  },
  {
   "cell_type": "code",
   "execution_count": null,
   "metadata": {},
   "outputs": [],
   "source": [
    "# removing stopwords\n",
    "review = remove_stopwords(review)\n",
    "review"
   ]
  },
  {
   "cell_type": "code",
   "execution_count": null,
   "metadata": {},
   "outputs": [],
   "source": [
    "# retokenizing the text\n",
    "review = tokenize_text(review)\n",
    "review"
   ]
  },
  {
   "cell_type": "code",
   "execution_count": null,
   "metadata": {},
   "outputs": [],
   "source": [
    "# lemmatization\n",
    "review = lem_words(review)\n",
    "review"
   ]
  },
  {
   "cell_type": "code",
   "execution_count": null,
   "metadata": {},
   "outputs": [],
   "source": [
    "# joining to one sentence\n",
    "review = ' '.join(review)\n",
    "review"
   ]
  },
  {
   "cell_type": "code",
   "execution_count": null,
   "metadata": {},
   "outputs": [],
   "source": [
    "# putting to list\n",
    "review = [review]\n",
    "review"
   ]
  },
  {
   "cell_type": "code",
   "execution_count": null,
   "metadata": {},
   "outputs": [],
   "source": [
    "# vectorizing\n",
    "review_x = vectorizer.transform(review)\n",
    "review_x"
   ]
  },
  {
   "cell_type": "code",
   "execution_count": null,
   "metadata": {},
   "outputs": [],
   "source": [
    "test_predict = model.predict(review_x)\n",
    "test_predict"
   ]
  },
  {
   "cell_type": "markdown",
   "metadata": {},
   "source": [
    "Here we can see that the model is correct at predicting the class and it can clearly state that the above review given is positive, which is true as we can see. "
   ]
  },
  {
   "cell_type": "markdown",
   "metadata": {},
   "source": [
    "###  Multiclass Classifier\n",
    "* Here we work with the original dataset.\n",
    "* We build a multi-class classifier.\n",
    "* MultinomialNB and XGBoost model will be tested."
   ]
  },
  {
   "cell_type": "markdown",
   "metadata": {},
   "source": [
    "### 2. MultinomialNB model"
   ]
  },
  {
   "cell_type": "code",
   "execution_count": null,
   "metadata": {},
   "outputs": [],
   "source": [
    "from sklearn.naive_bayes import MultinomialNB\n",
    "from sklearn.metrics import accuracy_score, classification_report, confusion_matrix\n",
    "\n",
    "\n",
    "# Split the data into features (X) and target variable (y)\n",
    "X = df['lemmatized_reviews_str']\n",
    "y = df['labels']\n",
    "\n",
    "# Split the dataset into training and testing sets\n",
    "X_train, X_test, y_train, y_test = train_test_split(X, y, test_size=0.2, random_state=42)\n",
    "\n",
    "# Vectorize the text data\n",
    "vectorizer = CountVectorizer()\n",
    "X_train_vectorized = vectorizer.fit_transform(X_train)\n",
    "X_test_vectorized = vectorizer.transform(X_test)\n",
    "\n",
    "# Initialize Multinomial Naive Bayes model\n",
    "model = MultinomialNB()\n",
    "\n",
    "# Train the model\n",
    "model.fit(X_train_vectorized, y_train)\n",
    "\n",
    "# Make predictions on the test set\n",
    "y_pred = model.predict(X_test_vectorized)\n",
    "\n",
    "# Evaluate the model\n",
    "accuracy = accuracy_score(y_test, y_pred)\n",
    "print(f'Accuracy: {accuracy}')\n",
    "\n",
    "# Display classification report and confusion matrix\n",
    "print('\\nClassification Report:')\n",
    "print(classification_report(y_test, y_pred))\n",
    "\n",
    "# Display Confusion Matrix\n",
    "conf_matrix = confusion_matrix(y_test, y_pred)\n",
    "plt.figure(figsize=(8, 6))\n",
    "sns.heatmap(conf_matrix, annot=True, fmt='d', cmap='Blues', xticklabels=model.classes_, yticklabels=model.classes_)\n",
    "plt.title('Confusion Matrix')\n",
    "plt.xlabel('Predicted')\n",
    "plt.ylabel('True')\n",
    "plt.show()\n"
   ]
  },
  {
   "cell_type": "markdown",
   "metadata": {},
   "source": [
    "## Observation\n",
    "\n",
    "The confusion matrix visualizes the performance of the model on each class, showing the number of true positives, true negatives, false positives, and false negatives. Note that precision and F1-score for Class 1 are 0 because there are no predicted samples for this class.\n",
    "\n",
    "The warning messages indicate that precision and F1-score are ill-defined for Class 1 due to the absence of predicted samples, and you can use the zero_division parameter to handle this behavior.\n",
    "\n",
    "Overall, we will investigate the imbalance in class distribution and consider strategies to address it, such as oversampling, undersampling, or using different evaluation metrics for imbalanced datasets."
   ]
  },
  {
   "cell_type": "code",
   "execution_count": null,
   "metadata": {},
   "outputs": [],
   "source": [
    "from imblearn.over_sampling import SMOTE\n",
    "from imblearn.pipeline import make_pipeline\n",
    "\n",
    "# Assuming X_train_vectorized, y_train are your training data\n",
    "X_train, X_val, y_train, y_val = train_test_split(X_train_vectorized, y_train, test_size=0.2, random_state=42)\n",
    "\n",
    "# Create a pipeline with SMOTE and a classifier (e.g., Multinomial Naive Bayes)\n",
    "pipeline = make_pipeline(SMOTE(random_state=42), MultinomialNB())\n",
    "\n",
    "# Train the model using the pipeline\n",
    "pipeline.fit(X_train, y_train)\n",
    "\n",
    "# Make predictions on the validation set\n",
    "y_pred = pipeline.predict(X_val)\n",
    "\n",
    "# Evaluate the model\n",
    "print(classification_report(y_val, y_pred))\n"
   ]
  },
  {
   "cell_type": "markdown",
   "metadata": {},
   "source": [
    "The classification report provides a summary of the performance of the Multinomial Naive Bayes model. The interpretation of the key metrics ie:\n",
    "\n",
    "- **Precision:** Precision is the ratio of correctly predicted positive observations to the total predicted positives. It is a measure of the accuracy of the classifier when it predicts a positive class. Precision is high for class 0 and class 2, but it's 0 for class 1. This indicates that the model is not predicting any instances of class 1 correctly.\n",
    "\n",
    "- **Recall (Sensitivity):** Recall is the ratio of correctly predicted positive observations to the all observations in actual class. It is a measure of the ability of the classifier to capture all the available positive instances. Recall is reasonable for class 0 and class 2, but it's 0 for class 1. This means the model is not capturing any instances of class 1.\n",
    "\n",
    "- **F1-score:** The F1-score is the harmonic mean of precision and recall. It provides a balance between precision and recall. The F1-score is reasonable for class 0 and class 2, but it's 0 for class 1.\n",
    "\n",
    "- **Support:** Support is the number of actual occurrences of the class in the specified dataset. It indicates the number of samples for each class.\n",
    "\n",
    "- **Accuracy:** Accuracy is the ratio of correctly predicted observation to the total observations. The overall accuracy of the model is 0.78.\n",
    "\n",
    "- **Macro Avg:** Macro average calculates metrics independently for each class and then takes the average. It's providing the average performance across all classes.\n",
    "\n",
    "- **Weighted Avg:** Weighted average calculates metrics for each class but takes into account the relative size of each class. It's useful when dealing with imbalanced datasets.\n",
    "\n",
    "The model is struggling with class 1, likely due to the imbalanced nature of the dataset. Further tuning or using different algorithms may be considered to improve performance, especially for minority classes. The `zero_division` parameter can be set to control warnings about precision and F1-score being ill-defined for classes with no predicted samples."
   ]
  },
  {
   "cell_type": "markdown",
   "metadata": {},
   "source": [
    "### 3. XGBoost model"
   ]
  },
  {
   "cell_type": "code",
   "execution_count": null,
   "metadata": {},
   "outputs": [],
   "source": [
    "import xgboost as xgb\n",
    "\n",
    "# Split the data into training and testing sets\n",
    "X_train, X_test, y_train, y_test = train_test_split(X_train_vectorized, y_train, test_size=0.2, random_state=42)\n",
    "\n",
    "# Initialize the XGBoost model\n",
    "model_xgb = xgb.XGBClassifier(objective='multi:softmax', num_class=3, random_state=42)\n",
    "\n",
    "# Train the model\n",
    "model_xgb.fit(X_train, y_train)\n",
    "\n",
    "# Make predictions on the validation set\n",
    "y_pred_xgb = model_xgb.predict(X_test)\n",
    "\n",
    "# Evaluate the model\n",
    "accuracy_xgb = accuracy_score(y_test, y_pred_xgb)\n",
    "print(f'Accuracy: {accuracy_xgb}')\n",
    "\n",
    "# Display classification report and confusion matrix\n",
    "print('\\nClassification Report:')\n",
    "print(classification_report(y_test, y_pred_xgb))\n",
    "\n",
    "# Display Confusion Matrix\n",
    "conf_matrix_xgb = confusion_matrix(y_test, y_pred_xgb)\n",
    "plt.figure(figsize=(8, 6))\n",
    "sns.heatmap(conf_matrix_xgb, annot=True, fmt='d', cmap='Blues', xticklabels=model_xgb.classes_, yticklabels=model_xgb.classes_)\n",
    "plt.title('Confusion Matrix')\n",
    "plt.xlabel('Predicted')\n",
    "plt.ylabel('True')\n",
    "plt.show()\n"
   ]
  },
  {
   "cell_type": "markdown",
   "metadata": {},
   "source": [
    "### Interpretations\n",
    "- **Class 0:**\n",
    "  - **Precision (Positive Predictive Value):** 0.72\n",
    "    - Of all instances predicted as Class 0, 72% were actually Class 0.\n",
    "  - **Recall (Sensitivity):** 0.70\n",
    "    - Of all instances that are actually Class 0, the model identified 70% correctly.\n",
    "  - **F1-Score:** 0.71\n",
    "    - The harmonic mean of precision and recall.\n",
    "  - **Support:** 90\n",
    "    - The number of actual occurrences of Class 0 in the test set.\n",
    "\n",
    "\n",
    "- **Accuracy:** 0.72\n",
    "  - The ratio of correctly predicted instances to the total instances. In this case, the model predicted the correct class for approximately 72% of instances.\n",
    "\n",
    "- **Macro Average:**\n",
    "  - **Macro Avg Precision:** 0.48\n",
    "  - **Macro Avg Recall:** 0.49\n",
    "  - **Macro Avg F1-Score:** 0.48\n",
    "  - The macro-average calculates the metric independently for each class and then takes the average. It treats all classes equally.\n",
    "\n",
    "- **Weighted Average:**\n",
    "  - **Weighted Avg Precision:** 0.70\n",
    "  - **Weighted Avg Recall:** 0.72\n",
    "  - **Weighted Avg F1-Score:** 0.71\n",
    "  - The weighted average considers the number of samples for each class, giving more weight to the majority class.\n",
    "\n"
   ]
  },
  {
   "cell_type": "code",
   "execution_count": null,
   "metadata": {},
   "outputs": [],
   "source": []
  }
 ],
 "metadata": {
  "colab": {
   "provenance": []
  },
  "kernelspec": {
   "display_name": "Python 3 (ipykernel)",
   "language": "python",
   "name": "python3"
  },
  "language_info": {
   "codemirror_mode": {
    "name": "ipython",
    "version": 3
   },
   "file_extension": ".py",
   "mimetype": "text/x-python",
   "name": "python",
   "nbconvert_exporter": "python",
   "pygments_lexer": "ipython3",
   "version": "3.10.12"
  },
  "vscode": {
   "interpreter": {
    "hash": "4f7924c4c56b083e0e50eadfe7ef592a7a8ef70df33a0047f82280e6be1afe15"
   }
  }
 },
 "nbformat": 4,
 "nbformat_minor": 1
}
