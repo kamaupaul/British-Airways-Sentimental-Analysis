{
 "cells": [
  {
   "cell_type": "markdown",
   "metadata": {},
   "source": [
    "# Sentimental Analysis for reviews related to British Airways\n",
    "\n",
    "**Executive Summary**\n",
    "\n",
    "British Airways is a major global airline that carries millions of passengers each year. The company collects a vast amount of feedback from its customers, both positive and negative. This feedback is valuable for understanding customer satisfaction and identifying areas for improvement. However, manually analyzing this feedback is a time-consuming and resource-intensive process.\n",
    "\n",
    "Sentiment analysis is a technique that can be used to automatically analyze customer feedback and identify the overall sentiment of the feedback. This information can then be used to:\n",
    "\n",
    "* Track changes in customer sentiment over time\n",
    "* Identify areas where British Airways is excelling or falling short\n",
    "* Develop targeted marketing campaigns\n",
    "* Improve customer satisfaction\n",
    "\n",
    "**Objectives**\n",
    "\n",
    "The objectives of this project are to:\n",
    "\n",
    "* Collect a large corpus of British Airways reviews\n",
    "* Perform sentiment analysis on the reviews to identify the overall sentiment\n",
    "* Analyze the sentiment of the reviews by topic\n",
    "* Identify key themes and trends in the reviews\n",
    "* Develop recommendations for British Airways based on the findings of the analysis\n",
    "\n",
    "**Scope**\n",
    "\n",
    "The scope of this project will be limited to reviews of British Airways written in English. The reviews will be collected from online review sites, and travel forums.\n",
    "\n",
    "**Methodology**\n",
    "\n",
    "The following methodology will be used to conduct the sentiment analysis:\n",
    "\n",
    "1. **Data collection:** A web scraping tool will be used to collect a large corpus of British Airways reviews from a variety of sources.\n",
    "2. **Data cleaning:** The collected reviews will be cleaned to remove irrelevant information, such as HTML tags and punctuation.\n",
    "3. **Sentiment analysis:** A sentiment analysis tool will be used to analyze the sentiment of the reviews.\n",
    "4. **Topic modeling:** Topic modeling will be used to identify the key themes and trends in the reviews.\n",
    "\n",
    "\n",
    "**Resources**\n",
    "\n",
    "The following resources will be needed to complete the project:\n",
    "\n",
    "* A web scraping tool\n",
    "* A sentiment analysis tool\n",
    "* A topic modeling tool\n",
    "\n",
    "\n",
    "**Conclusion**\n",
    "\n",
    "The results of this project will provide British Airways with valuable insights into customer sentiment. This information can then be used to improve customer satisfaction and make informed business decisions."
   ]
  },
  {
   "cell_type": "markdown",
   "metadata": {
    "id": "eLaVGrhWDq3T"
   },
   "source": [
    "## 1. Web scraping and analysis\n",
    "\n",
    "This Jupyter notebook includes some code to get you started with web scraping. We will use a package called `BeautifulSoup` to collect the data from the web. Once you've collected your data and saved it into a local `.csv` file you should start with your analysis.\n",
    "\n",
    "### Scraping data from Skytrax\n",
    "\n",
    "If you visit the site you can see that there is a lot of data there. For this task, we are only interested in reviews related to British Airways and the Airline itself.\n",
    "\n",
    "If you navigate to this link: [https://www.airlinequality.com/airline-reviews/british-airways] you will see this data. Now, we can use `Python` and `BeautifulSoup` to collect all the links to the reviews and then to collect the text data on each of the individual review links."
   ]
  },
  {
   "cell_type": "code",
   "execution_count": 1,
   "metadata": {
    "id": "pUvkZmf0Dq3Y"
   },
   "outputs": [],
   "source": [
    "import requests\n",
    "from bs4 import BeautifulSoup\n",
    "import pandas as pd"
   ]
  },
  {
   "cell_type": "code",
   "execution_count": 2,
   "metadata": {
    "id": "ecfDDBBBDq3Z",
    "outputId": "74be6e79-f384-4078-cce4-0f6087e4ff2d"
   },
   "outputs": [
    {
     "name": "stdout",
     "output_type": "stream",
     "text": [
      "Scraping page 1\n",
      "   ---> 1000 total reviews\n",
      "Scraping page 2\n",
      "   ---> 2000 total reviews\n",
      "Scraping page 3\n",
      "   ---> 3000 total reviews\n",
      "Scraping page 4\n",
      "   ---> 3713 total reviews\n",
      "Scraping page 5\n",
      "   ---> 3713 total reviews\n",
      "Scraping page 6\n",
      "   ---> 3713 total reviews\n",
      "Scraping page 7\n",
      "   ---> 3713 total reviews\n",
      "Scraping page 8\n",
      "   ---> 3713 total reviews\n",
      "Scraping page 9\n",
      "   ---> 3713 total reviews\n",
      "Scraping page 10\n",
      "   ---> 3713 total reviews\n"
     ]
    }
   ],
   "source": [
    "base_url = \"https://www.airlinequality.com/airline-reviews/british-airways\"\n",
    "pages = 10\n",
    "page_size = 1000\n",
    "\n",
    "reviews = []\n",
    "\n",
    "# for i in range(1, pages + 1):\n",
    "for i in range(1, pages + 1):\n",
    "\n",
    "    print(f\"Scraping page {i}\")\n",
    "\n",
    "    # Create URL to collect links from paginated data\n",
    "    url = f\"{base_url}/page/{i}/?sortby=post_date%3ADesc&pagesize={page_size}\"\n",
    "\n",
    "    # Collect HTML data from this page\n",
    "    response = requests.get(url)\n",
    "\n",
    "    # Parse content\n",
    "    content = response.content\n",
    "    parsed_content = BeautifulSoup(content, 'html.parser')\n",
    "    for para in parsed_content.find_all(\"div\", {\"class\": \"text_content\"}):\n",
    "        reviews.append(para.get_text())\n",
    "\n",
    "    print(f\"   ---> {len(reviews)} total reviews\")"
   ]
  },
  {
   "cell_type": "code",
   "execution_count": 3,
   "metadata": {
    "id": "tm11eIIJDq3a",
    "outputId": "0a8d9310-6603-4c5d-e6eb-333731b63763"
   },
   "outputs": [
    {
     "data": {
      "text/html": [
       "<div>\n",
       "<style scoped>\n",
       "    .dataframe tbody tr th:only-of-type {\n",
       "        vertical-align: middle;\n",
       "    }\n",
       "\n",
       "    .dataframe tbody tr th {\n",
       "        vertical-align: top;\n",
       "    }\n",
       "\n",
       "    .dataframe thead th {\n",
       "        text-align: right;\n",
       "    }\n",
       "</style>\n",
       "<table border=\"1\" class=\"dataframe\">\n",
       "  <thead>\n",
       "    <tr style=\"text-align: right;\">\n",
       "      <th></th>\n",
       "      <th>reviews</th>\n",
       "    </tr>\n",
       "  </thead>\n",
       "  <tbody>\n",
       "    <tr>\n",
       "      <th>0</th>\n",
       "      <td>✅ Trip Verified | Once again a terrible busine...</td>\n",
       "    </tr>\n",
       "    <tr>\n",
       "      <th>1</th>\n",
       "      <td>✅ Trip Verified |  BA A380's are showing their...</td>\n",
       "    </tr>\n",
       "    <tr>\n",
       "      <th>2</th>\n",
       "      <td>✅ Trip Verified |   Credit to BA - Flew to Sin...</td>\n",
       "    </tr>\n",
       "    <tr>\n",
       "      <th>3</th>\n",
       "      <td>✅ Trip Verified |   The check in area for prem...</td>\n",
       "    </tr>\n",
       "    <tr>\n",
       "      <th>4</th>\n",
       "      <td>✅ Trip Verified |  The flight took off a littl...</td>\n",
       "    </tr>\n",
       "  </tbody>\n",
       "</table>\n",
       "</div>"
      ],
      "text/plain": [
       "                                             reviews\n",
       "0  ✅ Trip Verified | Once again a terrible busine...\n",
       "1  ✅ Trip Verified |  BA A380's are showing their...\n",
       "2  ✅ Trip Verified |   Credit to BA - Flew to Sin...\n",
       "3  ✅ Trip Verified |   The check in area for prem...\n",
       "4  ✅ Trip Verified |  The flight took off a littl..."
      ]
     },
     "execution_count": 3,
     "metadata": {},
     "output_type": "execute_result"
    }
   ],
   "source": [
    "# creating a dataframe of reviews.\n",
    "df = pd.DataFrame()\n",
    "df[\"reviews\"] = reviews\n",
    "df.head()\n"
   ]
  },
  {
   "cell_type": "code",
   "execution_count": 1,
   "metadata": {
    "colab": {
     "base_uri": "https://localhost:8080/",
     "height": 424
    },
    "id": "-6pLWlm0Dq3b",
    "outputId": "47074bce-f851-433f-cfe6-68f08554d894",
    "scrolled": true
   },
   "outputs": [
    {
     "data": {
      "text/html": [
       "<div>\n",
       "<style scoped>\n",
       "    .dataframe tbody tr th:only-of-type {\n",
       "        vertical-align: middle;\n",
       "    }\n",
       "\n",
       "    .dataframe tbody tr th {\n",
       "        vertical-align: top;\n",
       "    }\n",
       "\n",
       "    .dataframe thead th {\n",
       "        text-align: right;\n",
       "    }\n",
       "</style>\n",
       "<table border=\"1\" class=\"dataframe\">\n",
       "  <thead>\n",
       "    <tr style=\"text-align: right;\">\n",
       "      <th></th>\n",
       "      <th>reviews</th>\n",
       "    </tr>\n",
       "  </thead>\n",
       "  <tbody>\n",
       "    <tr>\n",
       "      <th>0</th>\n",
       "      <td>✅ Trip Verified | Once again a terrible busine...</td>\n",
       "    </tr>\n",
       "    <tr>\n",
       "      <th>1</th>\n",
       "      <td>✅ Trip Verified |  BA A380's are showing their...</td>\n",
       "    </tr>\n",
       "    <tr>\n",
       "      <th>2</th>\n",
       "      <td>✅ Trip Verified |   Credit to BA - Flew to Sin...</td>\n",
       "    </tr>\n",
       "    <tr>\n",
       "      <th>3</th>\n",
       "      <td>✅ Trip Verified |   The check in area for prem...</td>\n",
       "    </tr>\n",
       "    <tr>\n",
       "      <th>4</th>\n",
       "      <td>✅ Trip Verified |  The flight took off a littl...</td>\n",
       "    </tr>\n",
       "    <tr>\n",
       "      <th>...</th>\n",
       "      <td>...</td>\n",
       "    </tr>\n",
       "    <tr>\n",
       "      <th>3708</th>\n",
       "      <td>HKG-LHR in New Club World on Boeing 777-300 - ...</td>\n",
       "    </tr>\n",
       "    <tr>\n",
       "      <th>3709</th>\n",
       "      <td>LHR to HAM. Purser addresses all club passenge...</td>\n",
       "    </tr>\n",
       "    <tr>\n",
       "      <th>3710</th>\n",
       "      <td>My son who had worked for British Airways urge...</td>\n",
       "    </tr>\n",
       "    <tr>\n",
       "      <th>3711</th>\n",
       "      <td>London City-New York JFK via Shannon on A318 b...</td>\n",
       "    </tr>\n",
       "    <tr>\n",
       "      <th>3712</th>\n",
       "      <td>SIN-LHR BA12 B747-436 First Class. Old aircraf...</td>\n",
       "    </tr>\n",
       "  </tbody>\n",
       "</table>\n",
       "<p>3713 rows × 1 columns</p>\n",
       "</div>"
      ],
      "text/plain": [
       "                                                reviews\n",
       "0     ✅ Trip Verified | Once again a terrible busine...\n",
       "1     ✅ Trip Verified |  BA A380's are showing their...\n",
       "2     ✅ Trip Verified |   Credit to BA - Flew to Sin...\n",
       "3     ✅ Trip Verified |   The check in area for prem...\n",
       "4     ✅ Trip Verified |  The flight took off a littl...\n",
       "...                                                 ...\n",
       "3708  HKG-LHR in New Club World on Boeing 777-300 - ...\n",
       "3709  LHR to HAM. Purser addresses all club passenge...\n",
       "3710  My son who had worked for British Airways urge...\n",
       "3711  London City-New York JFK via Shannon on A318 b...\n",
       "3712  SIN-LHR BA12 B747-436 First Class. Old aircraf...\n",
       "\n",
       "[3713 rows x 1 columns]"
      ]
     },
     "execution_count": 1,
     "metadata": {},
     "output_type": "execute_result"
    }
   ],
   "source": [
    "# saving the data obtained into a csv.\n",
    "#df.to_csv(\"data/BA_reviews.csv\")\n",
    "import pandas as pd\n",
    "df = pd.read_csv(\"data/BA_reviews.csv\",index_col=0)\n",
    "df"
   ]
  },
  {
   "cell_type": "code",
   "execution_count": 2,
   "metadata": {
    "colab": {
     "base_uri": "https://localhost:8080/"
    },
    "id": "1YUG-aISDq3b",
    "outputId": "741f6781-0bfa-44ab-a25a-a5332587b571"
   },
   "outputs": [
    {
     "name": "stdout",
     "output_type": "stream",
     "text": [
      "<class 'pandas.core.frame.DataFrame'>\n",
      "Int64Index: 3713 entries, 0 to 3712\n",
      "Data columns (total 1 columns):\n",
      " #   Column   Non-Null Count  Dtype \n",
      "---  ------   --------------  ----- \n",
      " 0   reviews  3713 non-null   object\n",
      "dtypes: object(1)\n",
      "memory usage: 58.0+ KB\n"
     ]
    }
   ],
   "source": [
    "# Getting the basic information of the reviews dataframe\n",
    "df.info()"
   ]
  },
  {
   "cell_type": "markdown",
   "metadata": {
    "id": "8ylYt5-ZDq3c"
   },
   "source": [
    "Now you have your dataset for this task! The loops above collected 1000 reviews by iterating through the paginated pages on the website. However, if you want to collect more data, try increasing the number of pages!\n",
    "\n",
    " The next thing that we should do is clean this data to remove any unnecessary text from each of the rows. For example, \"✅ Trip Verified\" can be removed from each row if it exists, as it's not relevant to what we want to investigate."
   ]
  },
  {
   "cell_type": "code",
   "execution_count": 3,
   "metadata": {
    "colab": {
     "base_uri": "https://localhost:8080/"
    },
    "id": "tmVb3R0cDq3n",
    "outputId": "ae810424-a61c-46b1-893c-67066e715158"
   },
   "outputs": [
    {
     "name": "stdout",
     "output_type": "stream",
     "text": [
      "                                                reviews\n",
      "0      Once again a terrible business class experien...\n",
      "1       BA A380's are showing their age, hopefully t...\n",
      "2        Credit to BA - Flew to Singapore recently a...\n",
      "3        The check in area for premium classes at Ga...\n",
      "4       The flight took off a little late due to Hea...\n",
      "...                                                 ...\n",
      "3708  HKG-LHR in New Club World on Boeing 777-300 - ...\n",
      "3709  LHR to HAM. Purser addresses all club passenge...\n",
      "3710  My son who had worked for British Airways urge...\n",
      "3711  London City-New York JFK via Shannon on A318 b...\n",
      "3712  SIN-LHR BA12 B747-436 First Class. Old aircraf...\n",
      "\n",
      "[3713 rows x 1 columns]\n"
     ]
    }
   ],
   "source": [
    "# Remove unnecessary text\n",
    "df['reviews'] = df['reviews'].str.replace(r'^(✅ Trip Verified|Not Verified) \\|', '', regex=True)\n",
    "\n",
    "# Display the cleaned DataFrame\n",
    "print(df)"
   ]
  },
  {
   "cell_type": "code",
   "execution_count": 4,
   "metadata": {
    "colab": {
     "base_uri": "https://localhost:8080/",
     "height": 112
    },
    "id": "0cMiTyUwDq3o",
    "outputId": "8ff86fd5-c29a-4ca9-cb24-d787c2e93c79"
   },
   "outputs": [
    {
     "data": {
      "text/html": [
       "<div>\n",
       "<style scoped>\n",
       "    .dataframe tbody tr th:only-of-type {\n",
       "        vertical-align: middle;\n",
       "    }\n",
       "\n",
       "    .dataframe tbody tr th {\n",
       "        vertical-align: top;\n",
       "    }\n",
       "\n",
       "    .dataframe thead th {\n",
       "        text-align: right;\n",
       "    }\n",
       "</style>\n",
       "<table border=\"1\" class=\"dataframe\">\n",
       "  <thead>\n",
       "    <tr style=\"text-align: right;\">\n",
       "      <th></th>\n",
       "      <th>reviews</th>\n",
       "    </tr>\n",
       "  </thead>\n",
       "  <tbody>\n",
       "    <tr>\n",
       "      <th>0</th>\n",
       "      <td>once again a terrible business class experien...</td>\n",
       "    </tr>\n",
       "    <tr>\n",
       "      <th>1</th>\n",
       "      <td>ba a380's are showing their age, hopefully t...</td>\n",
       "    </tr>\n",
       "  </tbody>\n",
       "</table>\n",
       "</div>"
      ],
      "text/plain": [
       "                                             reviews\n",
       "0   once again a terrible business class experien...\n",
       "1    ba a380's are showing their age, hopefully t..."
      ]
     },
     "execution_count": 4,
     "metadata": {},
     "output_type": "execute_result"
    }
   ],
   "source": [
    "# normalizing the data to lowecase\n",
    "df.reviews =df['reviews'].str.lower()\n",
    "df.head(2)"
   ]
  },
  {
   "cell_type": "code",
   "execution_count": 5,
   "metadata": {
    "id": "5wcI12NIDq3p"
   },
   "outputs": [],
   "source": [
    "# expanding the contractions (is-nots)\n",
    "#import contractions\n",
    "#from nltk.stem import WordNetLemmatizer\n",
    "\n",
    "#def expand(text):\n",
    "    # Expand contractions\n",
    " #   expanded_text = contractions.fix(text)\n",
    "\n",
    "  #  return expanded_text\n",
    "\n",
    "#df['reviews'] = df['reviews'].apply(expand)"
   ]
  },
  {
   "cell_type": "code",
   "execution_count": 6,
   "metadata": {
    "id": "6xp9056jCC5S"
   },
   "outputs": [],
   "source": [
    "# removing the html tags if there is any\n",
    "import re\n",
    "def remove_html(review):\n",
    "    pattern = re.compile('<.*?>')\n",
    "    return pattern.sub(r'', review)\n",
    "\n",
    "df['reviews'] = df['reviews'].apply(remove_html)"
   ]
  },
  {
   "cell_type": "code",
   "execution_count": 7,
   "metadata": {
    "id": "3IAUkkKHCC5T"
   },
   "outputs": [],
   "source": [
    "# removing URL and @ sign if any\n",
    "def preprocess_text_removingq_URLand_atsign(text):\n",
    "    # Remove URLs\n",
    "    clean_text = re.sub(r\"http\\S+|www\\S+|https\\S+\", \"\", text)\n",
    "    text = re.sub(r'@[^\\s]+', 'user', clean_text)\n",
    "    # Other preprocessing steps like removing punctuation, converting to lowercase, etc.\n",
    "    # ...\n",
    "    return text\n",
    "df['reviews'] = df['reviews'].apply(preprocess_text_removingq_URLand_atsign)"
   ]
  },
  {
   "cell_type": "code",
   "execution_count": 8,
   "metadata": {
    "colab": {
     "base_uri": "https://localhost:8080/"
    },
    "id": "z8ihGqV4Dq3p",
    "outputId": "62f0bbfd-9159-4632-b6b2-5b800b41cace"
   },
   "outputs": [
    {
     "name": "stdout",
     "output_type": "stream",
     "text": [
      "!\"#$%&'()*+,-./:;<=>?@[\\]^_`{|}~\n"
     ]
    }
   ],
   "source": [
    "#Removing Punctuations\n",
    "import string\n",
    "exclude = string.punctuation\n",
    "print(exclude)\n"
   ]
  },
  {
   "cell_type": "code",
   "execution_count": 9,
   "metadata": {
    "colab": {
     "base_uri": "https://localhost:8080/",
     "height": 206
    },
    "id": "3haoKrmHDq3q",
    "outputId": "47a85a15-4db7-4415-8bdb-1d08c3a56710"
   },
   "outputs": [
    {
     "data": {
      "text/html": [
       "<div>\n",
       "<style scoped>\n",
       "    .dataframe tbody tr th:only-of-type {\n",
       "        vertical-align: middle;\n",
       "    }\n",
       "\n",
       "    .dataframe tbody tr th {\n",
       "        vertical-align: top;\n",
       "    }\n",
       "\n",
       "    .dataframe thead th {\n",
       "        text-align: right;\n",
       "    }\n",
       "</style>\n",
       "<table border=\"1\" class=\"dataframe\">\n",
       "  <thead>\n",
       "    <tr style=\"text-align: right;\">\n",
       "      <th></th>\n",
       "      <th>reviews</th>\n",
       "    </tr>\n",
       "  </thead>\n",
       "  <tbody>\n",
       "    <tr>\n",
       "      <th>0</th>\n",
       "      <td>once again a terrible business class experien...</td>\n",
       "    </tr>\n",
       "    <tr>\n",
       "      <th>1</th>\n",
       "      <td>ba a380s are showing their age hopefully the...</td>\n",
       "    </tr>\n",
       "    <tr>\n",
       "      <th>2</th>\n",
       "      <td>credit to ba  flew to singapore recently an...</td>\n",
       "    </tr>\n",
       "    <tr>\n",
       "      <th>3</th>\n",
       "      <td>the check in area for premium classes at ga...</td>\n",
       "    </tr>\n",
       "    <tr>\n",
       "      <th>4</th>\n",
       "      <td>the flight took off a little late due to hea...</td>\n",
       "    </tr>\n",
       "  </tbody>\n",
       "</table>\n",
       "</div>"
      ],
      "text/plain": [
       "                                             reviews\n",
       "0   once again a terrible business class experien...\n",
       "1    ba a380s are showing their age hopefully the...\n",
       "2     credit to ba  flew to singapore recently an...\n",
       "3     the check in area for premium classes at ga...\n",
       "4    the flight took off a little late due to hea..."
      ]
     },
     "execution_count": 9,
     "metadata": {},
     "output_type": "execute_result"
    }
   ],
   "source": [
    "# removing punctuations from the reviews\n",
    "def remove_punctuations(review):\n",
    "    return review.translate(str.maketrans('','',exclude))\n",
    "\n",
    "df['reviews']=df['reviews'].apply(remove_punctuations)\n",
    "df.head()"
   ]
  },
  {
   "cell_type": "code",
   "execution_count": 10,
   "metadata": {
    "colab": {
     "base_uri": "https://localhost:8080/",
     "height": 241
    },
    "id": "DsHMJdo_Dq3q",
    "outputId": "443bde9d-c4e1-4cb7-db2b-e1ff201a9d6e"
   },
   "outputs": [
    {
     "name": "stderr",
     "output_type": "stream",
     "text": [
      "[nltk_data] Downloading package punkt to /home/paul/nltk_data...\n",
      "[nltk_data]   Package punkt is already up-to-date!\n"
     ]
    },
    {
     "data": {
      "text/html": [
       "<div>\n",
       "<style scoped>\n",
       "    .dataframe tbody tr th:only-of-type {\n",
       "        vertical-align: middle;\n",
       "    }\n",
       "\n",
       "    .dataframe tbody tr th {\n",
       "        vertical-align: top;\n",
       "    }\n",
       "\n",
       "    .dataframe thead th {\n",
       "        text-align: right;\n",
       "    }\n",
       "</style>\n",
       "<table border=\"1\" class=\"dataframe\">\n",
       "  <thead>\n",
       "    <tr style=\"text-align: right;\">\n",
       "      <th></th>\n",
       "      <th>reviews</th>\n",
       "    </tr>\n",
       "  </thead>\n",
       "  <tbody>\n",
       "    <tr>\n",
       "      <th>0</th>\n",
       "      <td>[once, again, a, terrible, business, class, ex...</td>\n",
       "    </tr>\n",
       "    <tr>\n",
       "      <th>1</th>\n",
       "      <td>[ba, a380s, are, showing, their, age, hopefull...</td>\n",
       "    </tr>\n",
       "    <tr>\n",
       "      <th>2</th>\n",
       "      <td>[credit, to, ba, flew, to, singapore, recently...</td>\n",
       "    </tr>\n",
       "    <tr>\n",
       "      <th>3</th>\n",
       "      <td>[the, check, in, area, for, premium, classes, ...</td>\n",
       "    </tr>\n",
       "    <tr>\n",
       "      <th>4</th>\n",
       "      <td>[the, flight, took, off, a, little, late, due,...</td>\n",
       "    </tr>\n",
       "  </tbody>\n",
       "</table>\n",
       "</div>"
      ],
      "text/plain": [
       "                                             reviews\n",
       "0  [once, again, a, terrible, business, class, ex...\n",
       "1  [ba, a380s, are, showing, their, age, hopefull...\n",
       "2  [credit, to, ba, flew, to, singapore, recently...\n",
       "3  [the, check, in, area, for, premium, classes, ...\n",
       "4  [the, flight, took, off, a, little, late, due,..."
      ]
     },
     "execution_count": 10,
     "metadata": {},
     "output_type": "execute_result"
    }
   ],
   "source": [
    "# tokenize the tweets\n",
    "import nltk\n",
    "nltk.download('punkt')\n",
    "from nltk.tokenize import word_tokenize, sent_tokenize\n",
    "def tokenize_text(review):\n",
    "    return word_tokenize(review)\n",
    "\n",
    "df['reviews']=df['reviews'].apply(tokenize_text)\n",
    "df.head()"
   ]
  },
  {
   "cell_type": "code",
   "execution_count": 11,
   "metadata": {
    "colab": {
     "base_uri": "https://localhost:8080/",
     "height": 241
    },
    "id": "1PyZDUynDq3r",
    "outputId": "fd9e9766-36ca-4d8d-cd85-743700089ae7"
   },
   "outputs": [
    {
     "name": "stderr",
     "output_type": "stream",
     "text": [
      "[nltk_data] Downloading package stopwords to /home/paul/nltk_data...\n",
      "[nltk_data]   Package stopwords is already up-to-date!\n"
     ]
    },
    {
     "data": {
      "text/html": [
       "<div>\n",
       "<style scoped>\n",
       "    .dataframe tbody tr th:only-of-type {\n",
       "        vertical-align: middle;\n",
       "    }\n",
       "\n",
       "    .dataframe tbody tr th {\n",
       "        vertical-align: top;\n",
       "    }\n",
       "\n",
       "    .dataframe thead th {\n",
       "        text-align: right;\n",
       "    }\n",
       "</style>\n",
       "<table border=\"1\" class=\"dataframe\">\n",
       "  <thead>\n",
       "    <tr style=\"text-align: right;\">\n",
       "      <th></th>\n",
       "      <th>reviews</th>\n",
       "    </tr>\n",
       "  </thead>\n",
       "  <tbody>\n",
       "    <tr>\n",
       "      <th>0</th>\n",
       "      <td>terrible business class experience ba flight d...</td>\n",
       "    </tr>\n",
       "    <tr>\n",
       "      <th>1</th>\n",
       "      <td>ba a380s showing age hopefully update interior...</td>\n",
       "    </tr>\n",
       "    <tr>\n",
       "      <th>2</th>\n",
       "      <td>credit ba flew singapore recently also back do...</td>\n",
       "    </tr>\n",
       "    <tr>\n",
       "      <th>3</th>\n",
       "      <td>check area premium classes gatwick nice queue ...</td>\n",
       "    </tr>\n",
       "    <tr>\n",
       "      <th>4</th>\n",
       "      <td>flight took little late due heathrow congestio...</td>\n",
       "    </tr>\n",
       "  </tbody>\n",
       "</table>\n",
       "</div>"
      ],
      "text/plain": [
       "                                             reviews\n",
       "0  terrible business class experience ba flight d...\n",
       "1  ba a380s showing age hopefully update interior...\n",
       "2  credit ba flew singapore recently also back do...\n",
       "3  check area premium classes gatwick nice queue ...\n",
       "4  flight took little late due heathrow congestio..."
      ]
     },
     "execution_count": 11,
     "metadata": {},
     "output_type": "execute_result"
    }
   ],
   "source": [
    "# removing stop words\n",
    "nltk.download('stopwords')\n",
    "from nltk.corpus import stopwords\n",
    "stop_words = set(stopwords.words('english'))\n",
    "\n",
    "def remove_stopwords(review):\n",
    "    # Use list comprehension for efficient list creation\n",
    "    new_review = [word for word in review if word not in stop_words]\n",
    "    return \" \".join(new_review)\n",
    "\n",
    "# Apply the function to the 'review' column\n",
    "df['reviews']=df['reviews'].apply(remove_stopwords)\n",
    "df.head()"
   ]
  },
  {
   "cell_type": "code",
   "execution_count": 12,
   "metadata": {
    "colab": {
     "base_uri": "https://localhost:8080/",
     "height": 206
    },
    "id": "zN9vgF61CC5V",
    "outputId": "26340854-92b8-481e-aba6-7e323db946fe"
   },
   "outputs": [
    {
     "data": {
      "text/html": [
       "<div>\n",
       "<style scoped>\n",
       "    .dataframe tbody tr th:only-of-type {\n",
       "        vertical-align: middle;\n",
       "    }\n",
       "\n",
       "    .dataframe tbody tr th {\n",
       "        vertical-align: top;\n",
       "    }\n",
       "\n",
       "    .dataframe thead th {\n",
       "        text-align: right;\n",
       "    }\n",
       "</style>\n",
       "<table border=\"1\" class=\"dataframe\">\n",
       "  <thead>\n",
       "    <tr style=\"text-align: right;\">\n",
       "      <th></th>\n",
       "      <th>reviews</th>\n",
       "    </tr>\n",
       "  </thead>\n",
       "  <tbody>\n",
       "    <tr>\n",
       "      <th>0</th>\n",
       "      <td>[terrible, business, class, experience, ba, fl...</td>\n",
       "    </tr>\n",
       "    <tr>\n",
       "      <th>1</th>\n",
       "      <td>[ba, a380s, showing, age, hopefully, update, i...</td>\n",
       "    </tr>\n",
       "    <tr>\n",
       "      <th>2</th>\n",
       "      <td>[credit, ba, flew, singapore, recently, also, ...</td>\n",
       "    </tr>\n",
       "    <tr>\n",
       "      <th>3</th>\n",
       "      <td>[check, area, premium, classes, gatwick, nice,...</td>\n",
       "    </tr>\n",
       "    <tr>\n",
       "      <th>4</th>\n",
       "      <td>[flight, took, little, late, due, heathrow, co...</td>\n",
       "    </tr>\n",
       "  </tbody>\n",
       "</table>\n",
       "</div>"
      ],
      "text/plain": [
       "                                             reviews\n",
       "0  [terrible, business, class, experience, ba, fl...\n",
       "1  [ba, a380s, showing, age, hopefully, update, i...\n",
       "2  [credit, ba, flew, singapore, recently, also, ...\n",
       "3  [check, area, premium, classes, gatwick, nice,...\n",
       "4  [flight, took, little, late, due, heathrow, co..."
      ]
     },
     "execution_count": 12,
     "metadata": {},
     "output_type": "execute_result"
    }
   ],
   "source": [
    "# re-tokenizing the data\n",
    "df['reviews']=df['reviews'].apply(tokenize_text)\n",
    "df.head()"
   ]
  },
  {
   "cell_type": "markdown",
   "metadata": {
    "id": "kXy1XNNxCC5V"
   },
   "source": [
    "### Data Analysis"
   ]
  },
  {
   "cell_type": "code",
   "execution_count": 13,
   "metadata": {
    "colab": {
     "base_uri": "https://localhost:8080/",
     "height": 603
    },
    "id": "Kwrbc8muDq3r",
    "outputId": "fa9d3ede-0a01-49af-b53c-84f813b0adab"
   },
   "outputs": [
    {
     "data": {
      "image/png": "[encoded data removed]",
      "text/plain": [
       "<Figure size 864x432 with 1 Axes>"
      ]
     },
     "metadata": {
      "needs_background": "light"
     },
     "output_type": "display_data"
    }
   ],
   "source": [
    "import nltk\n",
    "import matplotlib.pyplot as plt\n",
    "from nltk.probability import FreqDist\n",
    "\n",
    "#Frequency Distribution after Removing Stopwords\n",
    "reviews = df.reviews\n",
    "# Flatten the list of tokens into a single list\n",
    "all_tokens = [review for sublist in reviews for review in sublist]\n",
    "\n",
    "# Create the frequency distribution\n",
    "freq_dist = FreqDist(all_tokens)\n",
    "\n",
    "# Get the most common words\n",
    "most_common = freq_dist.most_common(20)\n",
    "\n",
    "# Extract the words and frequencies\n",
    "words, frequencies = zip(*most_common)\n",
    "\n",
    "# Create a bar plot\n",
    "plt.figure(figsize=(12, 6))\n",
    "plt.bar(words, frequencies)\n",
    "plt.xlabel('Words')\n",
    "plt.ylabel('Frequency')\n",
    "plt.title('Frequency Distribution of Words')\n",
    "plt.xticks(rotation=45)\n",
    "plt.show()\n"
   ]
  },
  {
   "cell_type": "markdown",
   "metadata": {
    "id": "4c_HtZjDCC5W"
   },
   "source": [
    "#### ***Observation***\n",
    "Just by looking at this, we can see there is a high occurence of\n",
    "\n",
    "* flight\n",
    "\n",
    "* ba(**British Airways**)\n",
    "\n",
    "* Service , places like Landon, food, seats and good.\n",
    "\n",
    "These words probably occur across our various sentiments and may not necessarily add any meaning, unless a majority of their occurence is associated with a particular emotion"
   ]
  },
  {
   "cell_type": "code",
   "execution_count": 14,
   "metadata": {
    "id": "ClKrPo3KCC5W"
   },
   "outputs": [],
   "source": [
    "# Assuming 'reviews' contains the list of reviews\n",
    "specific_character = '`'\n",
    "\n",
    "# Loop through reviews and print the one containing the specific character\n",
    "for i, review in enumerate(reviews):\n",
    "    if specific_character in review:\n",
    "        print(f\"Review {i + 1}: {review}\")\n"
   ]
  },
  {
   "cell_type": "code",
   "execution_count": 15,
   "metadata": {
    "colab": {
     "base_uri": "https://localhost:8080/",
     "height": 501
    },
    "id": "tOmQM8-EDq3s",
    "outputId": "e6877043-cdad-4817-f3d7-7901f29f493d"
   },
   "outputs": [
    {
     "ename": "ValueError",
     "evalue": "Only supported for TrueType fonts",
     "output_type": "error",
     "traceback": [
      "\u001b[0;31m---------------------------------------------------------------------------\u001b[0m",
      "\u001b[0;31mValueError\u001b[0m                                Traceback (most recent call last)",
      "\u001b[0;32m/tmp/ipykernel_8163/2939360595.py\u001b[0m in \u001b[0;36m<module>\u001b[0;34m\u001b[0m\n\u001b[1;32m     24\u001b[0m \u001b[0;34m\u001b[0m\u001b[0m\n\u001b[1;32m     25\u001b[0m \u001b[0;31m# Call the function with the DataFrame 'df'\u001b[0m\u001b[0;34m\u001b[0m\u001b[0;34m\u001b[0m\u001b[0m\n\u001b[0;32m---> 26\u001b[0;31m \u001b[0mgenerate_word_cloud\u001b[0m\u001b[0;34m(\u001b[0m\u001b[0mdf\u001b[0m\u001b[0;34m)\u001b[0m\u001b[0;34m\u001b[0m\u001b[0;34m\u001b[0m\u001b[0m\n\u001b[0m",
      "\u001b[0;32m/tmp/ipykernel_8163/2939360595.py\u001b[0m in \u001b[0;36mgenerate_word_cloud\u001b[0;34m(df)\u001b[0m\n\u001b[1;32m     15\u001b[0m         \u001b[0mmax_words\u001b[0m\u001b[0;34m=\u001b[0m\u001b[0;36m2000\u001b[0m\u001b[0;34m,\u001b[0m\u001b[0;34m\u001b[0m\u001b[0;34m\u001b[0m\u001b[0m\n\u001b[1;32m     16\u001b[0m         \u001b[0mmin_font_size\u001b[0m\u001b[0;34m=\u001b[0m\u001b[0;36m5\u001b[0m\u001b[0;34m\u001b[0m\u001b[0;34m\u001b[0m\u001b[0m\n\u001b[0;32m---> 17\u001b[0;31m     ).generate(all_text)\n\u001b[0m\u001b[1;32m     18\u001b[0m \u001b[0;34m\u001b[0m\u001b[0m\n\u001b[1;32m     19\u001b[0m     \u001b[0;31m# Display the word cloud\u001b[0m\u001b[0;34m\u001b[0m\u001b[0;34m\u001b[0m\u001b[0m\n",
      "\u001b[0;32m~/.local/lib/python3.10/site-packages/wordcloud/wordcloud.py\u001b[0m in \u001b[0;36mgenerate\u001b[0;34m(self, text)\u001b[0m\n\u001b[1;32m    637\u001b[0m         \u001b[0mself\u001b[0m\u001b[0;34m\u001b[0m\u001b[0;34m\u001b[0m\u001b[0m\n\u001b[1;32m    638\u001b[0m         \"\"\"\n\u001b[0;32m--> 639\u001b[0;31m         \u001b[0;32mreturn\u001b[0m \u001b[0mself\u001b[0m\u001b[0;34m.\u001b[0m\u001b[0mgenerate_from_text\u001b[0m\u001b[0;34m(\u001b[0m\u001b[0mtext\u001b[0m\u001b[0;34m)\u001b[0m\u001b[0;34m\u001b[0m\u001b[0;34m\u001b[0m\u001b[0m\n\u001b[0m\u001b[1;32m    640\u001b[0m \u001b[0;34m\u001b[0m\u001b[0m\n\u001b[1;32m    641\u001b[0m     \u001b[0;32mdef\u001b[0m \u001b[0m_check_generated\u001b[0m\u001b[0;34m(\u001b[0m\u001b[0mself\u001b[0m\u001b[0;34m)\u001b[0m\u001b[0;34m:\u001b[0m\u001b[0;34m\u001b[0m\u001b[0;34m\u001b[0m\u001b[0m\n",
      "\u001b[0;32m~/.local/lib/python3.10/site-packages/wordcloud/wordcloud.py\u001b[0m in \u001b[0;36mgenerate_from_text\u001b[0;34m(self, text)\u001b[0m\n\u001b[1;32m    619\u001b[0m         \"\"\"\n\u001b[1;32m    620\u001b[0m         \u001b[0mwords\u001b[0m \u001b[0;34m=\u001b[0m \u001b[0mself\u001b[0m\u001b[0;34m.\u001b[0m\u001b[0mprocess_text\u001b[0m\u001b[0;34m(\u001b[0m\u001b[0mtext\u001b[0m\u001b[0;34m)\u001b[0m\u001b[0;34m\u001b[0m\u001b[0;34m\u001b[0m\u001b[0m\n\u001b[0;32m--> 621\u001b[0;31m         \u001b[0mself\u001b[0m\u001b[0;34m.\u001b[0m\u001b[0mgenerate_from_frequencies\u001b[0m\u001b[0;34m(\u001b[0m\u001b[0mwords\u001b[0m\u001b[0;34m)\u001b[0m\u001b[0;34m\u001b[0m\u001b[0;34m\u001b[0m\u001b[0m\n\u001b[0m\u001b[1;32m    622\u001b[0m         \u001b[0;32mreturn\u001b[0m \u001b[0mself\u001b[0m\u001b[0;34m\u001b[0m\u001b[0;34m\u001b[0m\u001b[0m\n\u001b[1;32m    623\u001b[0m \u001b[0;34m\u001b[0m\u001b[0m\n",
      "\u001b[0;32m~/.local/lib/python3.10/site-packages/wordcloud/wordcloud.py\u001b[0m in \u001b[0;36mgenerate_from_frequencies\u001b[0;34m(self, frequencies, max_font_size)\u001b[0m\n\u001b[1;32m    451\u001b[0m                 \u001b[0mfont_size\u001b[0m \u001b[0;34m=\u001b[0m \u001b[0mself\u001b[0m\u001b[0;34m.\u001b[0m\u001b[0mheight\u001b[0m\u001b[0;34m\u001b[0m\u001b[0;34m\u001b[0m\u001b[0m\n\u001b[1;32m    452\u001b[0m             \u001b[0;32melse\u001b[0m\u001b[0;34m:\u001b[0m\u001b[0;34m\u001b[0m\u001b[0;34m\u001b[0m\u001b[0m\n\u001b[0;32m--> 453\u001b[0;31m                 self.generate_from_frequencies(dict(frequencies[:2]),\n\u001b[0m\u001b[1;32m    454\u001b[0m                                                max_font_size=self.height)\n\u001b[1;32m    455\u001b[0m                 \u001b[0;31m# find font sizes\u001b[0m\u001b[0;34m\u001b[0m\u001b[0;34m\u001b[0m\u001b[0m\n",
      "\u001b[0;32m~/.local/lib/python3.10/site-packages/wordcloud/wordcloud.py\u001b[0m in \u001b[0;36mgenerate_from_frequencies\u001b[0;34m(self, frequencies, max_font_size)\u001b[0m\n\u001b[1;32m    506\u001b[0m                     font, orientation=orientation)\n\u001b[1;32m    507\u001b[0m                 \u001b[0;31m# get size of resulting text\u001b[0m\u001b[0;34m\u001b[0m\u001b[0;34m\u001b[0m\u001b[0m\n\u001b[0;32m--> 508\u001b[0;31m                 \u001b[0mbox_size\u001b[0m \u001b[0;34m=\u001b[0m \u001b[0mdraw\u001b[0m\u001b[0;34m.\u001b[0m\u001b[0mtextbbox\u001b[0m\u001b[0;34m(\u001b[0m\u001b[0;34m(\u001b[0m\u001b[0;36m0\u001b[0m\u001b[0;34m,\u001b[0m \u001b[0;36m0\u001b[0m\u001b[0;34m)\u001b[0m\u001b[0;34m,\u001b[0m \u001b[0mword\u001b[0m\u001b[0;34m,\u001b[0m \u001b[0mfont\u001b[0m\u001b[0;34m=\u001b[0m\u001b[0mtransposed_font\u001b[0m\u001b[0;34m,\u001b[0m \u001b[0manchor\u001b[0m\u001b[0;34m=\u001b[0m\u001b[0;34m\"lt\"\u001b[0m\u001b[0;34m)\u001b[0m\u001b[0;34m\u001b[0m\u001b[0;34m\u001b[0m\u001b[0m\n\u001b[0m\u001b[1;32m    509\u001b[0m                 \u001b[0;31m# find possible places using integral image:\u001b[0m\u001b[0;34m\u001b[0m\u001b[0;34m\u001b[0m\u001b[0m\n\u001b[1;32m    510\u001b[0m                 result = occupancy.sample_position(box_size[3] + self.margin,\n",
      "\u001b[0;32m/usr/lib/python3/dist-packages/PIL/ImageDraw.py\u001b[0m in \u001b[0;36mtextbbox\u001b[0;34m(self, xy, text, font, anchor, spacing, align, direction, features, language, stroke_width, embedded_color)\u001b[0m\n\u001b[1;32m    669\u001b[0m             \u001b[0mfont\u001b[0m \u001b[0;34m=\u001b[0m \u001b[0mself\u001b[0m\u001b[0;34m.\u001b[0m\u001b[0mgetfont\u001b[0m\u001b[0;34m(\u001b[0m\u001b[0;34m)\u001b[0m\u001b[0;34m\u001b[0m\u001b[0;34m\u001b[0m\u001b[0m\n\u001b[1;32m    670\u001b[0m         \u001b[0;32mif\u001b[0m \u001b[0;32mnot\u001b[0m \u001b[0misinstance\u001b[0m\u001b[0;34m(\u001b[0m\u001b[0mfont\u001b[0m\u001b[0;34m,\u001b[0m \u001b[0mImageFont\u001b[0m\u001b[0;34m.\u001b[0m\u001b[0mFreeTypeFont\u001b[0m\u001b[0;34m)\u001b[0m\u001b[0;34m:\u001b[0m\u001b[0;34m\u001b[0m\u001b[0;34m\u001b[0m\u001b[0m\n\u001b[0;32m--> 671\u001b[0;31m             \u001b[0;32mraise\u001b[0m \u001b[0mValueError\u001b[0m\u001b[0;34m(\u001b[0m\u001b[0;34m\"Only supported for TrueType fonts\"\u001b[0m\u001b[0;34m)\u001b[0m\u001b[0;34m\u001b[0m\u001b[0;34m\u001b[0m\u001b[0m\n\u001b[0m\u001b[1;32m    672\u001b[0m         \u001b[0mmode\u001b[0m \u001b[0;34m=\u001b[0m \u001b[0;34m\"RGBA\"\u001b[0m \u001b[0;32mif\u001b[0m \u001b[0membedded_color\u001b[0m \u001b[0;32melse\u001b[0m \u001b[0mself\u001b[0m\u001b[0;34m.\u001b[0m\u001b[0mfontmode\u001b[0m\u001b[0;34m\u001b[0m\u001b[0;34m\u001b[0m\u001b[0m\n\u001b[1;32m    673\u001b[0m         bbox = font.getbbox(\n",
      "\u001b[0;31mValueError\u001b[0m: Only supported for TrueType fonts"
     ]
    }
   ],
   "source": [
    "# Here we can Plot a word cloud to see some of the most common words\n",
    "\n",
    "from wordcloud import WordCloud\n",
    "import matplotlib.pyplot as plt\n",
    "\n",
    "def generate_word_cloud(df):\n",
    "    # Flatten and concatenate all text data in the DataFrame\n",
    "    all_text = \" \".join(\" \".join(map(str, review)) for review in df['reviews'])\n",
    "\n",
    "    # Create the word cloud\n",
    "    wordcloud = WordCloud(\n",
    "        background_color='white',\n",
    "        width=1600,\n",
    "        height=800,\n",
    "        max_words=2000,\n",
    "        min_font_size=5\n",
    "    ).generate(all_text)\n",
    "\n",
    "    # Display the word cloud\n",
    "    plt.figure(figsize=(12, 8))\n",
    "    plt.imshow(wordcloud, interpolation='bilinear')\n",
    "    plt.axis('off')\n",
    "    plt.show()\n",
    "\n",
    "# Call the function with the DataFrame 'df'\n",
    "generate_word_cloud(df)\n"
   ]
  },
  {
   "cell_type": "code",
   "execution_count": null,
   "metadata": {
    "colab": {
     "base_uri": "https://localhost:8080/",
     "height": 458
    },
    "id": "AsqVbgLrDq3s",
    "outputId": "ae231ff4-8bdc-4749-ffe6-31cba760db45"
   },
   "outputs": [],
   "source": [
    "import nltk\n",
    "import pandas as pd\n",
    "from nltk.sentiment.vader import SentimentIntensityAnalyzer\n",
    "\n",
    "# Download the VADER lexicon (if not already downloaded)\n",
    "nltk.download('vader_lexicon')\n",
    "\n",
    "# Create a VADER sentiment analyzer\n",
    "analyzer = SentimentIntensityAnalyzer()\n",
    "\n",
    "# Calculate sentiment scores and labels for each review\n",
    "sentiment_scores = []\n",
    "sentiment_labels = []\n",
    "\n",
    "for review_list in df['reviews']:\n",
    "    review = \" \".join(review_list)  # Convert list of strings to a single string\n",
    "    scores = analyzer.polarity_scores(review)\n",
    "    compound_score = scores['compound']\n",
    "\n",
    "    if compound_score >= 0.05:\n",
    "        sentiment_label = \"positive\"\n",
    "    elif compound_score <= -0.05:\n",
    "        sentiment_label = \"negative\"\n",
    "    else:\n",
    "        sentiment_label = \"neutral\"\n",
    "\n",
    "    sentiment_scores.append(scores)\n",
    "    sentiment_labels.append(sentiment_label)\n",
    "\n",
    "# Add sentiment scores and labels as new columns in the DataFrame\n",
    "df['sentiment_scores'] = sentiment_scores\n",
    "df['sentiment_labels'] = sentiment_labels\n",
    "\n",
    "# Print the DataFrame with sentiment scores and labels\n",
    "df\n"
   ]
  },
  {
   "cell_type": "code",
   "execution_count": null,
   "metadata": {
    "colab": {
     "base_uri": "https://localhost:8080/"
    },
    "id": "Ex3ibzFgDq3s",
    "outputId": "993bc71a-83b5-45d6-9aa8-e67107e38b99"
   },
   "outputs": [],
   "source": [
    "df.sentiment_labels.value_counts(normalize=True)"
   ]
  },
  {
   "cell_type": "code",
   "execution_count": null,
   "metadata": {
    "colab": {
     "base_uri": "https://localhost:8080/",
     "height": 564
    },
    "id": "wc3Qd4q5CC5X",
    "outputId": "bfcb86c6-9b63-4588-8edc-b88548ca6723"
   },
   "outputs": [],
   "source": [
    "import seaborn as sns\n",
    "\n",
    "# Assuming 'sentiment_labels' is a list in each row, extract the first element\n",
    "df['sentiment_labels'] = df['sentiment_labels'].apply(lambda x: x[0] if isinstance(x, list) else x)\n",
    "\n",
    "# Calculate percentages of sentiment_labels\n",
    "sentiment_labels_percentages = df['sentiment_labels'].value_counts(normalize=True) * 100\n",
    "\n",
    "# Get the order of bars sorted by their percentages in descending order\n",
    "order = sentiment_labels_percentages.index\n",
    "\n",
    "# Plotting a countplot for sentiment labels with specified order\n",
    "plt.figure(figsize=(8, 6))\n",
    "ax = sns.countplot(x='sentiment_labels', data=df, order=order, palette='viridis')\n",
    "\n",
    "# Annotate each bar with its percentage value\n",
    "total_count = len(df['sentiment_labels'])\n",
    "for p in ax.patches:\n",
    "    height = p.get_height()\n",
    "    ax.text(p.get_x() + p.get_width() / 2., height + 0.5,\n",
    "            f'{height/total_count*100:.2f}%', ha='center', va='center', fontsize=10, color='black')\n",
    "\n",
    "plt.title('Distribution of sentiment_labels')\n",
    "plt.xlabel('Sentiment Review')\n",
    "plt.ylabel('Percentage')\n",
    "plt.show()\n"
   ]
  },
  {
   "cell_type": "markdown",
   "metadata": {
    "id": "ETJMsd5ACC5X"
   },
   "source": [
    "#### ***Observation***\n",
    "Just by looking at this, we can see that about 55% of the reviews are positive, 42% of the reviews are negative and just 2% of the reviews are neutral\n",
    "\n"
   ]
  },
  {
   "cell_type": "markdown",
   "metadata": {
    "id": "MuUr4zA0CC5Y"
   },
   "source": [
    "## Lemmatization\n",
    "We want to produce valid words, better suited for tasks like text analysis, sentiment analysis, and topic modeling.\n",
    "example: Lemmatizing \"running\" would result in \"run,\" and \"better\" would remain \"better.\"\n"
   ]
  },
  {
   "cell_type": "code",
   "execution_count": null,
   "metadata": {
    "colab": {
     "base_uri": "https://localhost:8080/"
    },
    "id": "pN8vmkp0CC5Y",
    "outputId": "215038f4-f72e-4fbb-f47c-2ccc54881aaa"
   },
   "outputs": [],
   "source": [
    "import nltk\n",
    "nltk.download('wordnet')\n"
   ]
  },
  {
   "cell_type": "code",
   "execution_count": null,
   "metadata": {
    "colab": {
     "base_uri": "https://localhost:8080/"
    },
    "id": "ym9b1mcGCC5Y",
    "outputId": "0bb81c16-9777-4372-ac11-58812a55e5bb"
   },
   "outputs": [],
   "source": [
    "# Create Lemmatizer\n",
    "from nltk.stem import WordNetLemmatizer\n",
    "word_lem = WordNetLemmatizer()\n",
    "\n",
    "# Function for lemmatization\n",
    "def lem_words(review):\n",
    "    return [word_lem.lemmatize(word) for word in review]\n",
    "\n",
    "# Assuming 'reviews' is a column containing lists of words in each review\n",
    "df['lemmatized_reviews'] = df['reviews'].apply(lem_words)\n",
    "df['lemmatized_reviews'].head()"
   ]
  },
  {
   "cell_type": "code",
   "execution_count": null,
   "metadata": {
    "colab": {
     "base_uri": "https://localhost:8080/",
     "height": 206
    },
    "id": "zQ4HFQelCC5Y",
    "outputId": "8df5f941-1fe9-4610-ff64-83b54579f192"
   },
   "outputs": [],
   "source": [
    "df.head()"
   ]
  },
  {
   "cell_type": "code",
   "execution_count": null,
   "metadata": {
    "colab": {
     "base_uri": "https://localhost:8080/"
    },
    "id": "kLhqOONCCC5Y",
    "outputId": "acc8d741-f40e-4b2e-c884-96caf5028064"
   },
   "outputs": [],
   "source": [
    "# Print some examples where lemmatization differs\n",
    "for i in range(10):\n",
    "    original_review = df['reviews'][i]\n",
    "    lemmatized_review = df['lemmatized_reviews'][i]\n",
    "\n",
    "    # Check for differences\n",
    "    differences = [pair for pair in zip(original_review, lemmatized_review) if pair[0] != pair[1]]\n",
    "\n",
    "    if differences:\n",
    "        print(f\"Original: {original_review}\")\n",
    "        print(f\"Lemmatized: {lemmatized_review}\")\n",
    "        print(f\"Differences: {differences}\")\n",
    "        print(\"\\n\")\n"
   ]
  },
  {
   "cell_type": "markdown",
   "metadata": {
    "id": "kweOOEIQCC5Z"
   },
   "source": [
    "As we can see from the above most of the words have been lemmatized as we wanted"
   ]
  },
  {
   "cell_type": "markdown",
   "metadata": {
    "id": "ILf3IVWTCC5Z"
   },
   "source": [
    "### Dealing with Emojis\n",
    "**Replace Emojis with Descriptions**:\n",
    "\n",
    "Replace emojis with their corresponding descriptions. This can help maintain some information about the emotional content while removing the graphical representation.\n",
    "\n"
   ]
  },
  {
   "cell_type": "code",
   "execution_count": null,
   "metadata": {
    "id": "s_Of0U69CC5Z"
   },
   "outputs": [],
   "source": [
    "# We create a function that replaces emojis in tweet text with their corresponding meanings.\n",
    "#import emoji\n",
    "\n",
    "#def replace_emojis_with_descriptions(text):\n",
    "    # Replace emojis with their descriptions (without colons)\n",
    " #   return emoji.demojize(text, delimiters=(' ', ' ')).replace(':', ' ')\n",
    "\n",
    "#df['lemmatized_reviews'] = df['lemmatized_reviews'].apply(replace_emojis_with_descriptions)\n",
    "#df['lemmatized_reviews'].head()\n"
   ]
  },
  {
   "cell_type": "markdown",
   "metadata": {
    "id": "WcByK3C1CC5a"
   },
   "source": [
    "### vectorization\n",
    "#### CountVectorization\n",
    "\n",
    "Techniques is used for converting text documents into numerical representations. The following code snippet creates a Bag-of-Words representation of the lemmatized reviews using the CountVectorizer from scikit-learn."
   ]
  },
  {
   "cell_type": "code",
   "execution_count": null,
   "metadata": {
    "id": "cLNVkzeDCC5a"
   },
   "outputs": [],
   "source": [
    "from sklearn.feature_extraction.text import CountVectorizer\n",
    "\n",
    "# Join the lemmatized words into strings\n",
    "df['lemmatized_reviews_str'] = df['lemmatized_reviews'].apply(lambda x: ' '.join(x))\n"
   ]
  },
  {
   "cell_type": "markdown",
   "metadata": {
    "id": "aIE9pjL4CC5b"
   },
   "source": [
    "## Feature engineering\n",
    "\n",
    "### Label Encoding the Target\n",
    "\n",
    "Here we label encode the target feature to transform the values to numerical values."
   ]
  },
  {
   "cell_type": "code",
   "execution_count": null,
   "metadata": {
    "colab": {
     "base_uri": "https://localhost:8080/"
    },
    "id": "Aor3dh53CC5b",
    "outputId": "350d0bd9-d91a-4447-e979-0fb3d9203b12"
   },
   "outputs": [],
   "source": [
    "from sklearn.preprocessing import LabelEncoder\n",
    "\n",
    "# Instantiate LabelEncoder\n",
    "le = LabelEncoder()\n",
    "\n",
    "# Fit and transform\n",
    "df['labels'] = le.fit_transform(df['sentiment_labels'])\n",
    "\n",
    "# View the classes\n",
    "classes = le.classes_\n",
    "print(classes)\n"
   ]
  },
  {
   "cell_type": "code",
   "execution_count": null,
   "metadata": {
    "colab": {
     "base_uri": "https://localhost:8080/",
     "height": 293
    },
    "id": "1gp4CvZFCC5l",
    "outputId": "2a886acd-1195-4939-ab4e-a343a518cecf"
   },
   "outputs": [],
   "source": [
    "# previewing the dataset\n",
    "df.head()"
   ]
  },
  {
   "cell_type": "code",
   "execution_count": null,
   "metadata": {
    "colab": {
     "base_uri": "https://localhost:8080/",
     "height": 363
    },
    "id": "yX8zLaVHCC5m",
    "outputId": "b140a08a-d6d6-489d-90e2-9840ef97c24c"
   },
   "outputs": [],
   "source": [
    "# displaying the encoding scheme\n",
    "df[['sentiment_labels', 'labels']].head(10)"
   ]
  },
  {
   "cell_type": "markdown",
   "metadata": {
    "id": "HuumX7DyCC5m"
   },
   "source": [
    "#  Modeling\n",
    "* The problem at hand is a classification problem.\n",
    "* We will explore 2 models: a binary logistic regression model, a multi-class XGBoost model and MultinomialNB.\n",
    "* Model accuracy will be the metric for evaluation.\n",
    "* Justification: Accuracy to get a verdict if a tweet is positive or negative.\n",
    "\n",
    "* Accuracy of 70% will be the threshold to deem the model as successful."
   ]
  },
  {
   "cell_type": "markdown",
   "metadata": {
    "id": "B1Zf_DApCC5m"
   },
   "source": [
    "### 1. LogisticRegression for Binary classification\n",
    "* In this section we create a base model to identify if a tweet is 'Positive' or 'Negative'.\n",
    "* LogisticRegression will be used for the classification.\n",
    "* The normal preprocessing of vectorization and train test split will be implemented."
   ]
  },
  {
   "cell_type": "code",
   "execution_count": null,
   "metadata": {
    "colab": {
     "base_uri": "https://localhost:8080/",
     "height": 738
    },
    "id": "M_3G0f7LCC5m",
    "outputId": "f023cbb2-9f47-4151-cbcf-2437465aeced"
   },
   "outputs": [],
   "source": [
    "from sklearn.model_selection import train_test_split\n",
    "from sklearn.linear_model import LogisticRegression\n",
    "from sklearn.metrics import accuracy_score, classification_report\n",
    "from sklearn.feature_extraction.text import CountVectorizer\n",
    "\n",
    "# Join the lemmatized words into strings\n",
    "df['lemmatized_reviews_str'] = df['lemmatized_reviews'].apply(lambda x: ' '.join(x))\n",
    "\n",
    "\n",
    "# Create a copy of the original data\n",
    "data_copy = df.copy()\n",
    "\n",
    "# Define the values to drop\n",
    "value_to_drop = [1]\n",
    "\n",
    "# Drop rows with the specified values in the 'labels' column\n",
    "data_copy = data_copy[~data_copy['labels'].isin(value_to_drop)]\n",
    "\n",
    "# Plot class imbalance\n",
    "plt.figure(figsize=(8, 6))\n",
    "sns.countplot(x='labels', data=data_copy)\n",
    "plt.title('Class Imbalance Check')\n",
    "plt.xlabel('Sentiment Label')\n",
    "plt.ylabel('Count')\n",
    "plt.show()\n",
    "\n",
    "# Split the data into features (X) and target variable (y)\n",
    "X = data_copy['lemmatized_reviews_str']\n",
    "y = data_copy['labels']\n",
    "\n",
    "# Save binary and multi-class datasets\n",
    "X_copy = X.copy()\n",
    "X_copy.to_csv('binary.csv', index=False)\n",
    "\n",
    "# Split the dataset into training and testing sets\n",
    "X_train, X_test, y_train, y_test = train_test_split(X, y, test_size=0.2, random_state=42)\n",
    "\n",
    "# Save binary and multi-class datasets\n",
    "X_copy = X_train.copy()\n",
    "X_copy.to_csv('binary.csv', index=False)\n",
    "\n",
    "# Vectorize the text data\n",
    "vectorizer = CountVectorizer()\n",
    "X_train_vectorized = vectorizer.fit_transform(X_train)\n",
    "X_test_vectorized = vectorizer.transform(X_test)\n",
    "\n",
    "# Initialize Logistic Regression model\n",
    "log_reg = LogisticRegression()\n",
    "\n",
    "# Train the model\n",
    "log_reg.fit(X_train_vectorized, y_train)\n",
    "\n",
    "# Make predictions on the test set\n",
    "y_pred = log_reg.predict(X_test_vectorized)\n",
    "\n",
    "# Evaluate the model\n",
    "accuracy = accuracy_score(y_test, y_pred)\n",
    "print(f'Accuracy: {accuracy}')\n",
    "\n",
    "# Print classification report\n",
    "print(classification_report(y_test, y_pred))\n"
   ]
  },
  {
   "cell_type": "markdown",
   "metadata": {
    "id": "c1MTcGORCC5n"
   },
   "source": [
    "### Model Summary\n",
    "\n",
    "1. **Accuracy: 0.79**\n",
    "   - The overall accuracy of the model is 79%. This indicates the proportion of correctly predicted instances among all instances.\n",
    "\n",
    "2. **Precision:**\n",
    "   - For class 0 (negative review):\n",
    "      - Precision is 73%, meaning that of all instances predicted as class 0, 73% are truly class 0.\n",
    "   - For class 2 (positive review):\n",
    "      - Precision is 82%, indicating that of all instances predicted as class 2, 82% are truly class 2.\n",
    "\n",
    "3. **Recall (Sensitivity):**\n",
    "   - For class 0:\n",
    "      - Recall is 71%, indicating that the model correctly identifies 71% of all actual instances of class 0.\n",
    "   - For class 2:\n",
    "      - Recall is 83%, meaning that the model correctly identifies 83% of all actual instances of class 2.\n",
    "\n",
    "4. **F1-Score:**\n",
    "   - The F1-score is the harmonic mean of precision and recall, providing a balance between the two.\n",
    "   - For class 0, the F1-score is 72%.\n",
    "   - For class 2, the F1-score is 82%.\n",
    "\n",
    "5. **Support:**\n",
    "   - The number of actual occurrences of each class in the test set.\n",
    "   - Class 0 has a support of 77 instances, and class 2 has a support of 119 instances.\n",
    "\n",
    "6. **Macro Average and Weighted Average:**\n",
    "   - The macro average calculates the average of precision, recall, and F1-score across classes, giving each class equal weight.\n",
    "   - The weighted average considers the number of instances for each class, providing a weighted average based on support.\n",
    "\n",
    "In summary, the model demonstrates good overall performance with decent precision, recall, and F1-score for both classes. The weighted average takes into account the class imbalance, providing a more representative evaluation metric for an imbalanced dataset."
   ]
  },
  {
   "cell_type": "code",
   "execution_count": null,
   "metadata": {
    "colab": {
     "base_uri": "https://localhost:8080/",
     "height": 472
    },
    "id": "2waADk7hCC5n",
    "outputId": "249313f5-5b79-4194-e55c-5e1dc5fee39b"
   },
   "outputs": [],
   "source": [
    "from sklearn.metrics import ConfusionMatrixDisplay, confusion_matrix\n",
    "# Assuming 'y_test' and 'y_pred' are the true labels and predicted labels, respectively\n",
    "conf_matrix = confusion_matrix(y_test, y_pred)\n",
    "\n",
    "# Display the confusion matrix using ConfusionMatrixDisplay\n",
    "cm_display = ConfusionMatrixDisplay(confusion_matrix=conf_matrix, display_labels=['Class 0', 'Class 2'])\n",
    "cm_display.plot(cmap='Blues', values_format='d')\n",
    "plt.title('Confusion Matrix')\n",
    "plt.show()\n",
    "\n"
   ]
  },
  {
   "cell_type": "markdown",
   "metadata": {
    "id": "TLxGUyc6CC5n"
   },
   "source": [
    "### Testing Logistic Regression Model here\n",
    "\n",
    "* We take a sample sentence, preprocess it then pass it to the model to see the output."
   ]
  },
  {
   "cell_type": "code",
   "execution_count": null,
   "metadata": {
    "id": "ss101_gpCC5o"
   },
   "outputs": [],
   "source": [
    "# sample review\n",
    "review = '✅ Trip Verified | Liked this airline! They were organized, cozy, on time & nice. Will definitely fly with them again. Internet & entertainment should be added though.'\n"
   ]
  },
  {
   "cell_type": "code",
   "execution_count": null,
   "metadata": {
    "colab": {
     "base_uri": "https://localhost:8080/",
     "height": 53
    },
    "id": "4BfloyNdCC5o",
    "outputId": "d34b27ab-f3ed-4d6f-b3f9-84bcc941edfc"
   },
   "outputs": [],
   "source": [
    "# lowercase\n",
    "review = review.lower()\n",
    "review"
   ]
  },
  {
   "cell_type": "code",
   "execution_count": null,
   "metadata": {
    "colab": {
     "base_uri": "https://localhost:8080/",
     "height": 53
    },
    "id": "ATYQYVPMCC5o",
    "outputId": "69c72ac3-6bcf-4b2b-de02-cf9aa92b1e4e"
   },
   "outputs": [],
   "source": [
    "# removing punctuations\n",
    "review = remove_punctuations(review)\n",
    "review"
   ]
  },
  {
   "cell_type": "code",
   "execution_count": null,
   "metadata": {
    "colab": {
     "base_uri": "https://localhost:8080/"
    },
    "id": "e0-J51myCC5o",
    "outputId": "fb3a0f34-5ebd-478f-c65f-bfd06c0353bb"
   },
   "outputs": [],
   "source": [
    "# tokenizing the data\n",
    "review = tokenize_text(review)\n",
    "review"
   ]
  },
  {
   "cell_type": "code",
   "execution_count": null,
   "metadata": {
    "colab": {
     "base_uri": "https://localhost:8080/",
     "height": 35
    },
    "id": "Wg1gDzKbCC5o",
    "outputId": "d0ab967f-cbd8-4219-99ac-1b09689d4a45"
   },
   "outputs": [],
   "source": [
    "# removing stopwords\n",
    "review = remove_stopwords(review)\n",
    "review"
   ]
  },
  {
   "cell_type": "code",
   "execution_count": null,
   "metadata": {
    "colab": {
     "base_uri": "https://localhost:8080/"
    },
    "id": "lfcGiIkOCC5p",
    "outputId": "d2b32f77-e5fa-443b-f8a2-556e56d41932"
   },
   "outputs": [],
   "source": [
    "# retokenizing the text\n",
    "review = tokenize_text(review)\n",
    "review"
   ]
  },
  {
   "cell_type": "code",
   "execution_count": null,
   "metadata": {
    "colab": {
     "base_uri": "https://localhost:8080/"
    },
    "id": "D-zb29OTCC5p",
    "outputId": "11d62407-4806-41ea-984a-0c2ba0e4eed0"
   },
   "outputs": [],
   "source": [
    "# lemmatization\n",
    "review = lem_words(review)\n",
    "review"
   ]
  },
  {
   "cell_type": "code",
   "execution_count": null,
   "metadata": {
    "colab": {
     "base_uri": "https://localhost:8080/",
     "height": 35
    },
    "id": "BOgN4e2VCC5p",
    "outputId": "8cd37024-52eb-435e-c8ea-4de1f63293eb"
   },
   "outputs": [],
   "source": [
    "# joining to one sentence\n",
    "review = ' '.join(review)\n",
    "review"
   ]
  },
  {
   "cell_type": "code",
   "execution_count": null,
   "metadata": {
    "colab": {
     "base_uri": "https://localhost:8080/"
    },
    "id": "YSqUm93gCC5q",
    "outputId": "597bb93c-46be-4c9c-d831-f4e9879ff552"
   },
   "outputs": [],
   "source": [
    "# putting to list\n",
    "review = [review]\n",
    "review"
   ]
  },
  {
   "cell_type": "code",
   "execution_count": null,
   "metadata": {
    "colab": {
     "base_uri": "https://localhost:8080/"
    },
    "id": "fTOFpCIQCC5q",
    "outputId": "1172fee0-8d38-4fd8-b0cd-6987e465b56a"
   },
   "outputs": [],
   "source": [
    "# vectorizing\n",
    "review_x = vectorizer.transform(review)\n",
    "review_x"
   ]
  },
  {
   "cell_type": "code",
   "execution_count": null,
   "metadata": {
    "colab": {
     "base_uri": "https://localhost:8080/"
    },
    "id": "NFLqCyaVCC5r",
    "outputId": "eb4262bb-670a-433d-8fc2-e2c1bda2e7de"
   },
   "outputs": [],
   "source": [
    "test_predict = log_reg.predict(review_x)\n",
    "test_predict"
   ]
  },
  {
   "cell_type": "markdown",
   "metadata": {
    "id": "-_7by5YXCC5r"
   },
   "source": [
    "Here we can see that the model is correct at predicting the class and it can clearly state that the above review given is positive, which is true as we can see."
   ]
  },
  {
   "cell_type": "markdown",
   "metadata": {
    "id": "vxHPIuMqCC5r"
   },
   "source": [
    "###  Multiclass Classifier\n",
    "* Here we work with the original dataset.\n",
    "* We build a multi-class classifier.\n",
    "* MultinomialNB and XGBoost model will be tested."
   ]
  },
  {
   "cell_type": "markdown",
   "metadata": {
    "id": "fwUpt78gCC5s"
   },
   "source": [
    "### 2. MultinomialNB model"
   ]
  },
  {
   "cell_type": "code",
   "execution_count": null,
   "metadata": {
    "colab": {
     "base_uri": "https://localhost:8080/",
     "height": 914
    },
    "id": "qXPo4dsnCC5s",
    "outputId": "5afc204b-ceb4-44e6-bc05-e25ecf79d42f"
   },
   "outputs": [],
   "source": [
    "from sklearn.naive_bayes import MultinomialNB\n",
    "from sklearn.metrics import accuracy_score, classification_report, confusion_matrix\n",
    "\n",
    "\n",
    "# Split the data into features (X) and target variable (y)\n",
    "X = df['lemmatized_reviews_str']\n",
    "y = df['labels']\n",
    "\n",
    "# Split the dataset into training and testing sets\n",
    "X_train, X_test, y_train, y_test = train_test_split(X, y, test_size=0.2, random_state=42)\n",
    "\n",
    "\n",
    "# Vectorize the text data\n",
    "vectorizer2 = CountVectorizer()\n",
    "X_train_vectorized = vectorizer2.fit_transform(X_train)\n",
    "X_test_vectorized = vectorizer2.transform(X_test)\n",
    "\n",
    "X_copy = X_train.copy()\n",
    "X_copy.to_csv('multi.csv', index=False)\n",
    "# Initialize Multinomial Naive Bayes model\n",
    "multinomialNB = MultinomialNB()\n",
    "\n",
    "# Train the model\n",
    "multinomialNB.fit(X_train_vectorized, y_train)\n",
    "\n",
    "# Make predictions on the test set\n",
    "y_pred = multinomialNB.predict(X_test_vectorized)\n",
    "\n",
    "# Evaluate the model\n",
    "accuracy = accuracy_score(y_test, y_pred)\n",
    "print(f'Accuracy: {accuracy}')\n",
    "\n",
    "# Display classification report and confusion matrix\n",
    "print('\\nClassification Report:')\n",
    "print(classification_report(y_test, y_pred))\n",
    "\n",
    "# Display Confusion Matrix\n",
    "conf_matrix = confusion_matrix(y_test, y_pred)\n",
    "plt.figure(figsize=(8, 6))\n",
    "sns.heatmap(conf_matrix, annot=True, fmt='d', cmap='Blues', xticklabels=multinomialNB.classes_, yticklabels=multinomialNB.classes_)\n",
    "plt.title('Confusion Matrix')\n",
    "plt.xlabel('Predicted')\n",
    "plt.ylabel('True')\n",
    "plt.show()\n"
   ]
  },
  {
   "cell_type": "markdown",
   "metadata": {
    "id": "Lqj1hL9lCC5s"
   },
   "source": [
    "## Observation\n",
    "\n",
    "The confusion matrix visualizes the performance of the model on each class, showing the number of true positives, true negatives, false positives, and false negatives. Note that precision and F1-score for Class 1 are 0 because there are no predicted samples for this class.\n",
    "\n",
    "The warning messages indicate that precision and F1-score are ill-defined for Class 1 due to the absence of predicted samples, and you can use the zero_division parameter to handle this behavior.\n",
    "\n",
    "Overall, we will investigate the imbalance in class distribution and consider strategies to address it, such as oversampling, undersampling, or using different evaluation metrics for imbalanced datasets."
   ]
  },
  {
   "cell_type": "code",
   "execution_count": null,
   "metadata": {
    "colab": {
     "base_uri": "https://localhost:8080/"
    },
    "id": "4Imhln0WCC5t",
    "outputId": "b4c7de1a-038c-41e2-8d5b-1f146573d03b"
   },
   "outputs": [],
   "source": [
    "from imblearn.over_sampling import SMOTE\n",
    "from imblearn.pipeline import make_pipeline\n",
    "\n",
    "# Assuming X_train_vectorized, y_train are your training data\n",
    "X_train, X_val, y_train, y_val = train_test_split(X_train_vectorized, y_train, test_size=0.2, random_state=42)\n",
    "\n",
    "# Create a pipeline with SMOTE and a classifier (e.g., Multinomial Naive Bayes)\n",
    "pipeline = make_pipeline(SMOTE(random_state=42), MultinomialNB())\n",
    "\n",
    "# Train the model using the pipeline\n",
    "pipeline.fit(X_train, y_train)\n",
    "\n",
    "# Make predictions on the validation set\n",
    "y_pred = pipeline.predict(X_val)\n",
    "\n",
    "# Evaluate the model\n",
    "print(classification_report(y_val, y_pred))\n"
   ]
  },
  {
   "cell_type": "markdown",
   "metadata": {
    "id": "E6HpFKVDCC5t"
   },
   "source": [
    "The classification report provides a summary of the performance of the Multinomial Naive Bayes model. The interpretation of the key metrics ie:\n",
    "\n",
    "- **Precision:** Precision is the ratio of correctly predicted positive observations to the total predicted positives. It is a measure of the accuracy of the classifier when it predicts a positive class. Precision is high for class 0 and class 2, but it's 0 for class 1. This indicates that the model is not predicting any instances of class 1 correctly.\n",
    "\n",
    "- **Recall (Sensitivity):** Recall is the ratio of correctly predicted positive observations to the all observations in actual class. It is a measure of the ability of the classifier to capture all the available positive instances. Recall is reasonable for class 0 and class 2, but it's 0 for class 1. This means the model is not capturing any instances of class 1.\n",
    "\n",
    "- **F1-score:** The F1-score is the harmonic mean of precision and recall. It provides a balance between precision and recall. The F1-score is reasonable for class 0 and class 2, but it's 0 for class 1.\n",
    "\n",
    "- **Support:** Support is the number of actual occurrences of the class in the specified dataset. It indicates the number of samples for each class.\n",
    "\n",
    "- **Accuracy:** Accuracy is the ratio of correctly predicted observation to the total observations. The overall accuracy of the model is 0.78.\n",
    "\n",
    "- **Macro Avg:** Macro average calculates metrics independently for each class and then takes the average. It's providing the average performance across all classes.\n",
    "\n",
    "- **Weighted Avg:** Weighted average calculates metrics for each class but takes into account the relative size of each class. It's useful when dealing with imbalanced datasets.\n",
    "\n",
    "The model is struggling with class 1, likely due to the imbalanced nature of the dataset. Further tuning or using different algorithms may be considered to improve performance, especially for minority classes. The `zero_division` parameter can be set to control warnings about precision and F1-score being ill-defined for classes with no predicted samples."
   ]
  },
  {
   "cell_type": "markdown",
   "metadata": {
    "id": "8gCMqMCRCC5t"
   },
   "source": [
    "### 3. XGBoost model"
   ]
  },
  {
   "cell_type": "code",
   "execution_count": null,
   "metadata": {
    "colab": {
     "base_uri": "https://localhost:8080/",
     "height": 914
    },
    "id": "picQgkugCC5t",
    "outputId": "0712a518-5d7f-4660-cef8-d88101db0814"
   },
   "outputs": [],
   "source": [
    "# Split the data into features (X) and target variable (y)\n",
    "X = df['lemmatized_reviews_str']\n",
    "y = df['labels']\n",
    "\n",
    "# Split the dataset into training and testing sets\n",
    "X_train, X_test, y_train, y_test = train_test_split(X, y, test_size=0.2, random_state=42)\n",
    "\n",
    "# Vectorize the text data\n",
    "vectorizer = CountVectorizer()\n",
    "X_train_vectorized = vectorizer.fit_transform(X_train)\n",
    "X_test_vectorized = vectorizer.transform(X_test)\n",
    "\n",
    "# Apply SMOTE to the training data\n",
    "smote = SMOTE(random_state=42)\n",
    "X_train_resampled, y_train_resampled = smote.fit_resample(X_train_vectorized, y_train)\n",
    "\n",
    "# Initialize the XGBoost model\n",
    "import xgboost as xgb\n",
    "model_xgb = xgb.XGBClassifier(objective='multi:softmax', num_class=3, random_state=42)\n",
    "\n",
    "# Train the model\n",
    "model_xgb.fit(X_train_resampled, y_train_resampled)\n",
    "\n",
    "# Make predictions on the validation set\n",
    "y_pred_xgb = model_xgb.predict(X_test_vectorized)\n",
    "\n",
    "# Evaluate the model\n",
    "accuracy_xgb = accuracy_score(y_test, y_pred_xgb)\n",
    "print(f'Accuracy: {accuracy_xgb}')\n",
    "\n",
    "# Display classification report and confusion matrix\n",
    "print('\\nClassification Report:')\n",
    "print(classification_report(y_test, y_pred_xgb))\n",
    "\n",
    "# Display Confusion Matrix\n",
    "conf_matrix_xgb = confusion_matrix(y_test, y_pred_xgb)\n",
    "plt.figure(figsize=(8, 6))\n",
    "sns.heatmap(conf_matrix_xgb, annot=True, fmt='d', cmap='Blues', xticklabels=model_xgb.classes_, yticklabels=model_xgb.classes_)\n",
    "plt.title('Confusion Matrix')\n",
    "plt.xlabel('Predicted')\n",
    "plt.ylabel('True')\n",
    "plt.show()\n",
    "\n"
   ]
  },
  {
   "cell_type": "markdown",
   "metadata": {},
   "source": [
    "### Interpretations\n",
    "- **Class 0:**\n",
    "  - **Precision (Positive Predictive Value):** 0.72\n",
    "    - Of all instances predicted as Class 0, 72% were actually Class 0.\n",
    "  - **Recall (Sensitivity):** 0.70\n",
    "    - Of all instances that are actually Class 0, the model identified 70% correctly.\n",
    "  - **F1-Score:** 0.71\n",
    "    - The harmonic mean of precision and recall.\n",
    "  - **Support:** 90\n",
    "    - The number of actual occurrences of Class 0 in the test set.\n",
    "\n",
    "\n",
    "- **Accuracy:** 0.72\n",
    "  - The ratio of correctly predicted instances to the total instances. In this case, the model predicted the correct class for approximately 72% of instances.\n",
    "\n",
    "- **Macro Average:**\n",
    "  - **Macro Avg Precision:** 0.48\n",
    "  - **Macro Avg Recall:** 0.49\n",
    "  - **Macro Avg F1-Score:** 0.48\n",
    "  - The macro-average calculates the metric independently for each class and then takes the average. It treats all classes equally.\n",
    "\n",
    "- **Weighted Average:**\n",
    "  - **Weighted Avg Precision:** 0.70\n",
    "  - **Weighted Avg Recall:** 0.72\n",
    "  - **Weighted Avg F1-Score:** 0.71\n",
    "  - The weighted average considers the number of samples for each class, giving more weight to the majority class.\n",
    "\n"
   ]
  },
  {
   "cell_type": "markdown",
   "metadata": {},
   "source": [
    "# Final note on modeling\n",
    "* Despite implementing resampling techniques to address class imbalance, the model's accuracy has not improved significantly. This suggests that other factors within the dataset may be limiting predictive performance.\n",
    "\n",
    "* The binary logistic regression model performs best.\n",
    "* For Multiclass Multinomial Naive Bayes Model was better."
   ]
  },
  {
   "cell_type": "markdown",
   "metadata": {},
   "source": [
    "\n",
    "\n",
    "1. **Logistic Regression Model:**\n",
    "   - **Accuracy:** 0.79\n",
    "   - **Precision, Recall, F1-Score:** Varies per class\n",
    "   - **Comment:** The logistic regression model achieved a decent overall accuracy, but it's essential to examine class-specific metrics for a more detailed evaluation.\n",
    "\n",
    "2. **Multinomial Naive Bayes Model:**\n",
    "   - **Accuracy:** 0.75\n",
    "   - **Precision, Recall, F1-Score:** Varies per class\n",
    "   - **Comment:** The Multinomial Naive Bayes model showed lower accuracy compared to logistic regression. It's essential to investigate the class-specific metrics to understand its performance on individual classes.\n",
    "\n",
    "3. **XGBoost Model:**\n",
    "   - **Accuracy:** 0.72\n",
    "   - **Precision, Recall, F1-Score:** Varies per class\n",
    "   - **Comment:** XGBoost performance is slightly lower than logistic regression and Naive Bayes. Investigate class-specific metrics for more insights.\n",
    "\n",
    "**Common Observations:**\n",
    "- **Class Imbalance:** There are instances of class imbalance, as indicated by the warning messages in the classification reports. This can affect the interpretation of results, especially for minority classes.\n",
    "- **Undefined Metrics:** Some models show warnings about precision and F1-score being ill-defined for certain classes. This suggests that there might be issues with the class distribution in the training or testing set.\n",
    "\n",
    "**Recommendations:**\n",
    "- **Handling Imbalance:** Consider strategies to handle class imbalance, such as oversampling minority classes (e.g., using SMOTE) or adjusting class weights during model training.\n",
    "- **Fine-Tuning Models:** Experiment with hyperparameter tuning for each model to potentially improve performance.\n",
    "- **Feature Engineering:** Explore additional feature engineering techniques to improve model understanding and predictive power.\n",
    "\n"
   ]
  },
  {
   "cell_type": "markdown",
   "metadata": {},
   "source": [
    "### Findings:\n",
    "\n",
    "1. **Common Themes:**\n",
    "   - Identified recurring themes in the reviews, including aspects like flight experience, time management, crew behavior, class distinctions, staff service, British Airways (BA) as a brand, overall service quality, and mentions of specific locations like London.\n",
    "\n",
    "2. **High-Frequency Terms:**\n",
    "   - Observed that certain words like \"flight,\" \"time,\" \"crew,\" \"class,\" \"staff,\" \"BA,\" \"service,\" \"London,\" \"food,\" \"seats,\" and \"good\" have a high occurrence. Noted the need to assess whether these terms carry emotional weight or if they are neutral descriptors.\n",
    "\n",
    "3. **Sentiment Distribution:**\n",
    "   - Discovered that approximately 55% of the reviews express positive sentiments, 42% convey negative sentiments, and only 2% are neutral. Acknowledged the polarity distribution as a crucial aspect of customer feedback.\n",
    "\n",
    "### Conclusion:\n",
    "\n",
    "1. **Customer Sentiment Overview:**\n",
    "   - Provided a snapshot of the overall sentiment landscape, highlighting the prevailing positive sentiment but acknowledging a significant portion of negative sentiments.\n",
    "\n",
    "2. **Commonly Mentioned Aspects:**\n",
    "   - Recognized the importance of understanding the context behind frequently mentioned terms, emphasizing the need to distinguish emotional significance from neutral references.\n",
    "\n",
    "### Limitations:\n",
    "\n",
    "1. **Semantic Ambiguity:**\n",
    "   - Acknowledged the challenge of interpreting sentiment in reviews due to semantic ambiguity and the potential for different emotional interpretations of similar terms.\n",
    "\n",
    "2. **Biases and Generalization:**\n",
    "   - Addressed the limitations associated with biases in sentiment analysis tools and the potential challenges of generalizing findings to the entire customer base.\n",
    "\n",
    "### Recommendations:\n",
    "\n",
    "1. **In-depth Analysis of High-Frequency Terms:**\n",
    "   - Suggested a detailed examination of high-frequency terms to unveil their emotional nuances, providing a more nuanced understanding of customer sentiment.\n",
    "\n",
    "2. **Contextual Analysis:**\n",
    "   - Recommended a context-specific analysis to distinguish between neutral and emotionally charged occurrences of common terms, ensuring a more accurate representation of sentiment.\n",
    "\n",
    "3. **Stakeholder Engagement:**\n",
    "   - Encouraged involvement of stakeholders from British Airways in the interpretation process to provide industry expertise and context to the sentiment analysis results.\n",
    "\n",
    "### Next Steps:\n",
    "\n",
    "1. **Refinement of Sentiment Analysis:**\n",
    "   - Plan to refine sentiment analysis algorithms to improve accuracy, incorporating feedback from stakeholders and validating results against manual assessments.\n",
    "\n",
    "2. **Qualitative Analysis:**\n",
    "   - Consideration of qualitative methods, such as sentiment-specific surveys or interviews, to gather deeper insights into customer emotions and preferences.\n",
    "\n",
    "3. **Enhanced Topic Modeling:**\n",
    "   - Expand topic modeling to uncover specific areas within highlighted themes that require attention, allowing for more targeted and actionable insights.\n",
    "\n",
    "4. **Iterative Approach:**\n",
    "   - Adopt an iterative approach to data collection and analysis, continuously refining methodologies based on ongoing feedback and emerging trends.\n",
    "\n",
    "By addressing these findings, conclusions, limitations, recommendations, and next steps, the sentiment analysis project will evolve into a more robust and actionable tool for British Airways to enhance customer satisfaction and make informed business decisions."
   ]
  },
  {
   "cell_type": "markdown",
   "metadata": {},
   "source": [
    "## Deployment"
   ]
  },
  {
   "cell_type": "code",
   "execution_count": null,
   "metadata": {},
   "outputs": [],
   "source": [
    "import joblib\n",
    "\n",
    "# Save the trained model as a pickle file\n",
    "#joblib.dump(log_reg, 'logistic_regression_model.pkl')\n",
    "#joblib.dump(multinomialNB, 'Multinomial_Naive_Bayes_Model.pkl')\n"
   ]
  }
 ],
 "metadata": {
  "colab": {
   "provenance": []
  },
  "kernelspec": {
   "display_name": "python3(learn-env)",
   "language": "python",
   "name": "learn-env"
  },
  "language_info": {
   "codemirror_mode": {
    "name": "ipython",
    "version": 3
   },
   "file_extension": ".py",
   "mimetype": "text/x-python",
   "name": "python",
   "nbconvert_exporter": "python",
   "pygments_lexer": "ipython3",
   "version": "3.10.12"
  },
  "vscode": {
   "interpreter": {
    "hash": "4f7924c4c56b083e0e50eadfe7ef592a7a8ef70df33a0047f82280e6be1afe15"
   }
  }
 },
 "nbformat": 4,
 "nbformat_minor": 1
}
